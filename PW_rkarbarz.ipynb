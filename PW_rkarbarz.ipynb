{
 "cells": [
  {
   "cell_type": "markdown",
   "id": "9d9bb65c",
   "metadata": {},
   "source": [
    "# Segmentacja zgłoszeń w systemie JIRA przy wykorzystaniu algorytmów centroidów i analizy sentymentu komentarzy użytkowników"
   ]
  },
  {
   "cell_type": "markdown",
   "id": "d267443b",
   "metadata": {},
   "source": [
    " W zarządzaniu produktem informatycznym ważne jest podejmowanie trafnych decyzji, które w większości przypadków nie są trywialne. W procesie wytwórczym produktu informatycznego jednym z głównych i kluczowych elementów procesu jest etap testowania oprogramowania. Oprócz testów jednostkowych, deweloperskich automatycznych czy testów regresji coraz większą rolę przykłada się do testów użytkowników, którzy zgłaszają błędy, sugestie i usprawnienia dot. produktu informatycznego. Jednym ze znanych systemów do zgłaszania błędów i uwag jest system JIRA. Nadając publiczny dostęp do systemu JIRA dla swojego produktu informatycznego dla szerokiej liczby użytkowników liderzy testów trafiają na problem z ustaleniem priorytetyzacji zgłoszeń. Z jednej strony właściciel produktu chce, aby wszystkie zgłoszenia zostały zrealizowane, jednak z drugiej strony, posiada ograniczony zespół dewelopersko-testowy, który nie jest w stanie wszystkich zmian wdrożyć. Głównym przedmiotem niniejszej pracy jest wykonanie segmentacji takich zgłoszeń przy wykorzystaniu algorytmów centroidów i wykorzystując analizę wydźwięku emocji komentarzy użytkowników. Wynik segmentacji  będzie prowadził do wydzielenia zgłoszeń, które od strony użytkownika są priorytetowe do realizacji i budzą wiele emocji, co będzie prowadziło do usprawnienia selekcji priorytetowych zgłoszeń. Praca opisuje także samo podejście do problemu, jak również pokazuje w sposób szczegółowy opis wykorzystanych algorytmów, metryk oraz przedstawia proces przetwarzania danych"
   ]
  },
  {
   "cell_type": "markdown",
   "id": "ed5301ef",
   "metadata": {},
   "source": [
    "# 1.Instalacja narzędzi"
   ]
  },
  {
   "cell_type": "code",
   "execution_count": 1,
   "id": "5124d723",
   "metadata": {},
   "outputs": [],
   "source": [
    "#!pip install Faker"
   ]
  },
  {
   "cell_type": "code",
   "execution_count": 2,
   "id": "4fd1151f",
   "metadata": {},
   "outputs": [],
   "source": [
    "#!pip install vaderSentiment"
   ]
  },
  {
   "cell_type": "code",
   "execution_count": 3,
   "id": "b66c2f67",
   "metadata": {},
   "outputs": [],
   "source": [
    "#!pip3 install pyclustering"
   ]
  },
  {
   "cell_type": "code",
   "execution_count": 4,
   "id": "aa00e491",
   "metadata": {},
   "outputs": [],
   "source": [
    "#!pip install kmodes"
   ]
  },
  {
   "cell_type": "code",
   "execution_count": 5,
   "id": "5bcb5b60",
   "metadata": {},
   "outputs": [],
   "source": [
    "#!pip install -U scikit-learn"
   ]
  },
  {
   "cell_type": "code",
   "execution_count": 6,
   "id": "d5fecb94",
   "metadata": {},
   "outputs": [],
   "source": [
    "#!pip install boto3"
   ]
  },
  {
   "cell_type": "code",
   "execution_count": 7,
   "id": "98a3a186",
   "metadata": {},
   "outputs": [],
   "source": [
    "#!pip3 install nltk"
   ]
  },
  {
   "cell_type": "markdown",
   "id": "b19e6626",
   "metadata": {},
   "source": [
    "# 2. Import bibliotek"
   ]
  },
  {
   "cell_type": "code",
   "execution_count": 8,
   "id": "d29d07f8",
   "metadata": {},
   "outputs": [],
   "source": [
    "from jira import JIRA"
   ]
  },
  {
   "cell_type": "code",
   "execution_count": 9,
   "id": "c5544411",
   "metadata": {},
   "outputs": [],
   "source": [
    "import pandas as pd"
   ]
  },
  {
   "cell_type": "code",
   "execution_count": 10,
   "id": "20c6efaa",
   "metadata": {},
   "outputs": [],
   "source": [
    "import numpy as np"
   ]
  },
  {
   "cell_type": "code",
   "execution_count": 11,
   "id": "96beaf54",
   "metadata": {},
   "outputs": [],
   "source": [
    "import seaborn as sns"
   ]
  },
  {
   "cell_type": "code",
   "execution_count": 12,
   "id": "f77ef96a",
   "metadata": {},
   "outputs": [],
   "source": [
    "from textblob import TextBlob"
   ]
  },
  {
   "cell_type": "code",
   "execution_count": 13,
   "id": "7b76d4de",
   "metadata": {},
   "outputs": [],
   "source": [
    "import matplotlib.pyplot as plt"
   ]
  },
  {
   "cell_type": "code",
   "execution_count": 14,
   "id": "3cbb5020",
   "metadata": {},
   "outputs": [],
   "source": [
    "from matplotlib.pyplot import figure"
   ]
  },
  {
   "cell_type": "code",
   "execution_count": 15,
   "id": "98595c97",
   "metadata": {},
   "outputs": [],
   "source": [
    "import warnings\n",
    "warnings.filterwarnings('ignore')"
   ]
  },
  {
   "cell_type": "markdown",
   "id": "779d7118",
   "metadata": {},
   "source": [
    "# 2.Import danych z JIRA"
   ]
  },
  {
   "cell_type": "markdown",
   "id": "1fc344f7",
   "metadata": {},
   "source": [
    "## 2.1 Definicja zmiennych "
   ]
  },
  {
   "cell_type": "markdown",
   "id": "b312dc23",
   "metadata": {},
   "source": [
    "Definicja połączenia do projektu JIRA"
   ]
  },
  {
   "cell_type": "code",
   "execution_count": 16,
   "id": "a0edd55d",
   "metadata": {},
   "outputs": [],
   "source": [
    "JIRA_URL=\"https://jira.atlassian.com/\""
   ]
  },
  {
   "cell_type": "markdown",
   "id": "17f97deb",
   "metadata": {},
   "source": [
    "Definicja projektu"
   ]
  },
  {
   "cell_type": "code",
   "execution_count": 17,
   "id": "4fc16748",
   "metadata": {},
   "outputs": [],
   "source": [
    "JIRA_PROJECT=\"FishEye\""
   ]
  },
  {
   "cell_type": "markdown",
   "id": "ead257e8",
   "metadata": {},
   "source": [
    "Ilość maksymalnych zgłoszeń pobranych przez JIRA. Domyślnie dla projektów jest ustawione na 1000 zgłoszeń importu na każde połączenie. Parametr ten może zmienić administrator projektu JIRA."
   ]
  },
  {
   "cell_type": "code",
   "execution_count": 18,
   "id": "43385ad1",
   "metadata": {},
   "outputs": [],
   "source": [
    "JIRA_MAX_RESULTS=1000"
   ]
  },
  {
   "cell_type": "markdown",
   "id": "4363a790",
   "metadata": {},
   "source": [
    "## 2.2 Łączenie się do serwera JIRA"
   ]
  },
  {
   "cell_type": "markdown",
   "id": "b3e548f2",
   "metadata": {},
   "source": [
    "Ustawienie opcji połączenia do serwea JIRY"
   ]
  },
  {
   "cell_type": "code",
   "execution_count": 19,
   "id": "b74b6f50",
   "metadata": {},
   "outputs": [],
   "source": [
    "options = { 'server': JIRA_URL, 'verify':False}"
   ]
  },
  {
   "cell_type": "code",
   "execution_count": 20,
   "id": "f2f41680",
   "metadata": {},
   "outputs": [],
   "source": [
    "JIRA_KEY=JIRA(options)"
   ]
  },
  {
   "cell_type": "markdown",
   "id": "f404cb23",
   "metadata": {},
   "source": [
    "Ustawienie zapytania JQL do selekcji danych z JIRA.\n",
    "Wybieramy zadania z wybranego projektu, które posiadają <b>status jest różny od CLOSED, DONE i CANCELLED </b>"
   ]
  },
  {
   "cell_type": "code",
   "execution_count": 21,
   "id": "e83fe9b2",
   "metadata": {},
   "outputs": [],
   "source": [
    "JIRA_JQL='project = \"{}\" and status not in (\"CLOSED\",\"DONE\",\"CANCELLED\") '.format(JIRA_PROJECT) "
   ]
  },
  {
   "cell_type": "markdown",
   "id": "6557065c",
   "metadata": {},
   "source": [
    "Wykonanie zapytania do serwera JIRA"
   ]
  },
  {
   "cell_type": "code",
   "execution_count": 22,
   "id": "07a974f6",
   "metadata": {},
   "outputs": [],
   "source": [
    "JIRA_SEARCH=JIRA_KEY.search_issues(JIRA_JQL, maxResults=JIRA_MAX_RESULTS)"
   ]
  },
  {
   "cell_type": "markdown",
   "id": "7e6efa89",
   "metadata": {},
   "source": [
    "## 2.3 Import zgłoszeń z JIRY"
   ]
  },
  {
   "cell_type": "markdown",
   "id": "552b89a8",
   "metadata": {},
   "source": [
    "Mapowanie danych z JIRA do dataframe"
   ]
  },
  {
   "cell_type": "code",
   "execution_count": 23,
   "id": "be9e2422",
   "metadata": {},
   "outputs": [],
   "source": [
    "JIRA_Issues=pd.DataFrame()\n",
    "for issue in JIRA_SEARCH:\n",
    "    JIRA_Issues= JIRA_Issues.append(\n",
    "    {\n",
    "        'key': issue.key, \n",
    "        'summary': issue.fields.summary,\n",
    "        'assignee' : issue.fields.assignee,\n",
    "        'reporter' : issue.fields.reporter,\n",
    "        'votes' : str(issue.fields.votes),\n",
    "        'watchCount' : str(issue.fields.watches.watchCount),\n",
    "        'created' : issue.fields.created,\n",
    "        'updated' : issue.fields.updated, \n",
    "        'status' :issue.fields.status, \n",
    "        'resolution' :issue.fields.resolution,  \n",
    "    }, ignore_index=True\n",
    "    )\n",
    "    issue_num = issue.key\n",
    "    issue = JIRA_KEY.issue(issue_num)\n",
    "    comments =  issue.fields.comment.comments\n",
    "     "
   ]
  },
  {
   "cell_type": "markdown",
   "id": "7d1fedda",
   "metadata": {},
   "source": [
    "Podgląd danych"
   ]
  },
  {
   "cell_type": "code",
   "execution_count": 24,
   "id": "7e56841b",
   "metadata": {},
   "outputs": [
    {
     "data": {
      "text/html": [
       "<div>\n",
       "<style scoped>\n",
       "    .dataframe tbody tr th:only-of-type {\n",
       "        vertical-align: middle;\n",
       "    }\n",
       "\n",
       "    .dataframe tbody tr th {\n",
       "        vertical-align: top;\n",
       "    }\n",
       "\n",
       "    .dataframe thead th {\n",
       "        text-align: right;\n",
       "    }\n",
       "</style>\n",
       "<table border=\"1\" class=\"dataframe\">\n",
       "  <thead>\n",
       "    <tr style=\"text-align: right;\">\n",
       "      <th></th>\n",
       "      <th>key</th>\n",
       "      <th>summary</th>\n",
       "      <th>assignee</th>\n",
       "      <th>reporter</th>\n",
       "      <th>votes</th>\n",
       "      <th>watchCount</th>\n",
       "      <th>created</th>\n",
       "      <th>updated</th>\n",
       "      <th>status</th>\n",
       "      <th>resolution</th>\n",
       "    </tr>\n",
       "  </thead>\n",
       "  <tbody>\n",
       "    <tr>\n",
       "      <th>0</th>\n",
       "      <td>FE-7404</td>\n",
       "      <td>FISHEYE_INST Environment variable is not picke...</td>\n",
       "      <td>None</td>\n",
       "      <td>Danny Samuel</td>\n",
       "      <td>0</td>\n",
       "      <td>1</td>\n",
       "      <td>2022-05-19T12:18:39.000+0000</td>\n",
       "      <td>2022-05-25T02:20:30.000+0000</td>\n",
       "      <td>Short Term Backlog</td>\n",
       "      <td>None</td>\n",
       "    </tr>\n",
       "    <tr>\n",
       "      <th>1</th>\n",
       "      <td>FE-7397</td>\n",
       "      <td>CVE-2021-43955: /rest-service-fecru/server-v1 ...</td>\n",
       "      <td>None</td>\n",
       "      <td>Security Metrics Bot</td>\n",
       "      <td>0</td>\n",
       "      <td>0</td>\n",
       "      <td>2022-03-07T08:15:48.000+0000</td>\n",
       "      <td>2022-03-20T20:28:29.000+0000</td>\n",
       "      <td>Published</td>\n",
       "      <td>Fixed</td>\n",
       "    </tr>\n",
       "    <tr>\n",
       "      <th>2</th>\n",
       "      <td>FE-7395</td>\n",
       "      <td>CVE-2021-43956: Javascript Prototype Pollution...</td>\n",
       "      <td>None</td>\n",
       "      <td>Security Metrics Bot</td>\n",
       "      <td>0</td>\n",
       "      <td>0</td>\n",
       "      <td>2022-03-07T08:15:14.000+0000</td>\n",
       "      <td>2022-03-20T20:28:34.000+0000</td>\n",
       "      <td>Published</td>\n",
       "      <td>Fixed</td>\n",
       "    </tr>\n",
       "    <tr>\n",
       "      <th>3</th>\n",
       "      <td>FE-7388</td>\n",
       "      <td>CVE-2021-43957: Bypass for CVE-2020-29446 (Loc...</td>\n",
       "      <td>None</td>\n",
       "      <td>Security Metrics Bot</td>\n",
       "      <td>0</td>\n",
       "      <td>1</td>\n",
       "      <td>2022-03-07T08:02:11.000+0000</td>\n",
       "      <td>2022-03-20T20:28:38.000+0000</td>\n",
       "      <td>Published</td>\n",
       "      <td>Fixed</td>\n",
       "    </tr>\n",
       "    <tr>\n",
       "      <th>4</th>\n",
       "      <td>FE-7387</td>\n",
       "      <td>CVE-2021-43958: Various rest resources missing...</td>\n",
       "      <td>None</td>\n",
       "      <td>Security Metrics Bot</td>\n",
       "      <td>0</td>\n",
       "      <td>1</td>\n",
       "      <td>2022-03-07T08:01:11.000+0000</td>\n",
       "      <td>2022-03-20T20:28:44.000+0000</td>\n",
       "      <td>Published</td>\n",
       "      <td>Fixed</td>\n",
       "    </tr>\n",
       "  </tbody>\n",
       "</table>\n",
       "</div>"
      ],
      "text/plain": [
       "       key                                            summary assignee  \\\n",
       "0  FE-7404  FISHEYE_INST Environment variable is not picke...     None   \n",
       "1  FE-7397  CVE-2021-43955: /rest-service-fecru/server-v1 ...     None   \n",
       "2  FE-7395  CVE-2021-43956: Javascript Prototype Pollution...     None   \n",
       "3  FE-7388  CVE-2021-43957: Bypass for CVE-2020-29446 (Loc...     None   \n",
       "4  FE-7387  CVE-2021-43958: Various rest resources missing...     None   \n",
       "\n",
       "               reporter votes watchCount                       created  \\\n",
       "0          Danny Samuel     0          1  2022-05-19T12:18:39.000+0000   \n",
       "1  Security Metrics Bot     0          0  2022-03-07T08:15:48.000+0000   \n",
       "2  Security Metrics Bot     0          0  2022-03-07T08:15:14.000+0000   \n",
       "3  Security Metrics Bot     0          1  2022-03-07T08:02:11.000+0000   \n",
       "4  Security Metrics Bot     0          1  2022-03-07T08:01:11.000+0000   \n",
       "\n",
       "                        updated              status resolution  \n",
       "0  2022-05-25T02:20:30.000+0000  Short Term Backlog       None  \n",
       "1  2022-03-20T20:28:29.000+0000           Published      Fixed  \n",
       "2  2022-03-20T20:28:34.000+0000           Published      Fixed  \n",
       "3  2022-03-20T20:28:38.000+0000           Published      Fixed  \n",
       "4  2022-03-20T20:28:44.000+0000           Published      Fixed  "
      ]
     },
     "execution_count": 24,
     "metadata": {},
     "output_type": "execute_result"
    }
   ],
   "source": [
    "JIRA_Issues.head()"
   ]
  },
  {
   "cell_type": "markdown",
   "id": "19d69bd6",
   "metadata": {},
   "source": [
    "Wyświetl liczbę rekordów"
   ]
  },
  {
   "cell_type": "code",
   "execution_count": 25,
   "id": "2bf8ceff",
   "metadata": {},
   "outputs": [
    {
     "data": {
      "text/plain": [
       "key           873\n",
       "summary       873\n",
       "assignee       19\n",
       "reporter      871\n",
       "votes         873\n",
       "watchCount    873\n",
       "created       873\n",
       "updated       873\n",
       "status        873\n",
       "resolution     13\n",
       "dtype: int64"
      ]
     },
     "execution_count": 25,
     "metadata": {},
     "output_type": "execute_result"
    }
   ],
   "source": [
    "JIRA_Issues.count()"
   ]
  },
  {
   "cell_type": "markdown",
   "id": "36993fc0",
   "metadata": {},
   "source": [
    "## 2.4 Import komentarzy z JIRY"
   ]
  },
  {
   "cell_type": "markdown",
   "id": "74c772a8",
   "metadata": {},
   "source": [
    "Import komnetarzy dla każdego zgłoszenia z JIRY."
   ]
  },
  {
   "cell_type": "code",
   "execution_count": 26,
   "id": "f37482d4",
   "metadata": {},
   "outputs": [],
   "source": [
    "df_comments = []\n",
    "comment_dict= []\n",
    "JIRA_comments=pd.DataFrame()\n",
    "\n",
    "for issue in JIRA_SEARCH:\n",
    "    comment_dict = {} \n",
    "    issue_num = issue.key\n",
    "    issue = JIRA_KEY.issue(issue_num)\n",
    "    comments =  issue.fields.comment.comments\n",
    "    for comment in comments:\n",
    "        \n",
    "        df_comments.append(comment_dict)\n",
    "        \n",
    "        JIRA_comments=JIRA_comments.append(\n",
    "        {\n",
    "            'author':  comment.author.displayName,\n",
    "            'body' : comment.body,\n",
    "            'date' : comment.created,\n",
    "            'key': issue.key \n",
    "            \n",
    "        }, ignore_index=True\n",
    "        )"
   ]
  },
  {
   "cell_type": "markdown",
   "id": "f0eed872",
   "metadata": {},
   "source": [
    "Podgląd danych"
   ]
  },
  {
   "cell_type": "code",
   "execution_count": 27,
   "id": "3b658209",
   "metadata": {},
   "outputs": [
    {
     "data": {
      "text/html": [
       "<div>\n",
       "<style scoped>\n",
       "    .dataframe tbody tr th:only-of-type {\n",
       "        vertical-align: middle;\n",
       "    }\n",
       "\n",
       "    .dataframe tbody tr th {\n",
       "        vertical-align: top;\n",
       "    }\n",
       "\n",
       "    .dataframe thead th {\n",
       "        text-align: right;\n",
       "    }\n",
       "</style>\n",
       "<table border=\"1\" class=\"dataframe\">\n",
       "  <thead>\n",
       "    <tr style=\"text-align: right;\">\n",
       "      <th></th>\n",
       "      <th>author</th>\n",
       "      <th>body</th>\n",
       "      <th>date</th>\n",
       "      <th>key</th>\n",
       "    </tr>\n",
       "  </thead>\n",
       "  <tbody>\n",
       "    <tr>\n",
       "      <th>0</th>\n",
       "      <td>David Black</td>\n",
       "      <td>This is an independent assessment and you shou...</td>\n",
       "      <td>2022-03-14T03:32:34.252+0000</td>\n",
       "      <td>FE-7397</td>\n",
       "    </tr>\n",
       "    <tr>\n",
       "      <th>1</th>\n",
       "      <td>David Black</td>\n",
       "      <td>This is an independent assessment and you shou...</td>\n",
       "      <td>2022-03-14T04:36:28.408+0000</td>\n",
       "      <td>FE-7395</td>\n",
       "    </tr>\n",
       "    <tr>\n",
       "      <th>2</th>\n",
       "      <td>David Black</td>\n",
       "      <td>This is an independent assessment and you shou...</td>\n",
       "      <td>2022-03-14T05:10:51.437+0000</td>\n",
       "      <td>FE-7388</td>\n",
       "    </tr>\n",
       "    <tr>\n",
       "      <th>3</th>\n",
       "      <td>David Black</td>\n",
       "      <td>This is an independent assessment and you shou...</td>\n",
       "      <td>2022-03-14T05:46:09.578+0000</td>\n",
       "      <td>FE-7387</td>\n",
       "    </tr>\n",
       "    <tr>\n",
       "      <th>4</th>\n",
       "      <td>David Black</td>\n",
       "      <td>This is an independent assessment and you shou...</td>\n",
       "      <td>2022-03-04T02:33:48.159+0000</td>\n",
       "      <td>FE-7384</td>\n",
       "    </tr>\n",
       "  </tbody>\n",
       "</table>\n",
       "</div>"
      ],
      "text/plain": [
       "        author                                               body  \\\n",
       "0  David Black  This is an independent assessment and you shou...   \n",
       "1  David Black  This is an independent assessment and you shou...   \n",
       "2  David Black  This is an independent assessment and you shou...   \n",
       "3  David Black  This is an independent assessment and you shou...   \n",
       "4  David Black  This is an independent assessment and you shou...   \n",
       "\n",
       "                           date      key  \n",
       "0  2022-03-14T03:32:34.252+0000  FE-7397  \n",
       "1  2022-03-14T04:36:28.408+0000  FE-7395  \n",
       "2  2022-03-14T05:10:51.437+0000  FE-7388  \n",
       "3  2022-03-14T05:46:09.578+0000  FE-7387  \n",
       "4  2022-03-04T02:33:48.159+0000  FE-7384  "
      ]
     },
     "execution_count": 27,
     "metadata": {},
     "output_type": "execute_result"
    }
   ],
   "source": [
    "JIRA_comments.head()"
   ]
  },
  {
   "cell_type": "markdown",
   "id": "052108f8",
   "metadata": {},
   "source": [
    "## 2.5 Formatowanie kolumn "
   ]
  },
  {
   "cell_type": "markdown",
   "id": "7d2e08c8",
   "metadata": {},
   "source": [
    "Ustalenie formatów kolumn numerycznych"
   ]
  },
  {
   "cell_type": "code",
   "execution_count": 28,
   "id": "9eb84bc7",
   "metadata": {},
   "outputs": [],
   "source": [
    "JIRA_Issues.astype({\"watchCount\": int });"
   ]
  },
  {
   "cell_type": "code",
   "execution_count": 29,
   "id": "9d327f3b",
   "metadata": {},
   "outputs": [],
   "source": [
    "JIRA_Issues.astype({\"votes\": int });"
   ]
  },
  {
   "cell_type": "markdown",
   "id": "d054683f",
   "metadata": {},
   "source": [
    "Ustalenie fomrmatów dat"
   ]
  },
  {
   "cell_type": "code",
   "execution_count": 30,
   "id": "a25fdc39",
   "metadata": {},
   "outputs": [],
   "source": [
    "JIRA_Issues['updated'] = pd.to_datetime(JIRA_Issues['updated'])"
   ]
  },
  {
   "cell_type": "code",
   "execution_count": 31,
   "id": "9e6f14f0",
   "metadata": {},
   "outputs": [],
   "source": [
    "JIRA_Issues['created'] = pd.to_datetime(JIRA_Issues['created'])"
   ]
  },
  {
   "cell_type": "markdown",
   "id": "08ee3ddc",
   "metadata": {},
   "source": [
    "Wyświetlenie struktury JIRA_Issues"
   ]
  },
  {
   "cell_type": "code",
   "execution_count": 32,
   "id": "7ef998d0",
   "metadata": {},
   "outputs": [
    {
     "data": {
      "text/plain": [
       "key                        object\n",
       "summary                    object\n",
       "assignee                   object\n",
       "reporter                   object\n",
       "votes                      object\n",
       "watchCount                 object\n",
       "created       datetime64[ns, UTC]\n",
       "updated       datetime64[ns, UTC]\n",
       "status                     object\n",
       "resolution                 object\n",
       "dtype: object"
      ]
     },
     "execution_count": 32,
     "metadata": {},
     "output_type": "execute_result"
    }
   ],
   "source": [
    "JIRA_Issues.dtypes"
   ]
  },
  {
   "cell_type": "markdown",
   "id": "3b3153b5",
   "metadata": {},
   "source": [
    "Wyszukiwanie wartości pustych na kolumnach votes i watchCount. W przypadku wartości pustych wstawiamy wartość <b>0</b>"
   ]
  },
  {
   "cell_type": "code",
   "execution_count": 33,
   "id": "6da168f1",
   "metadata": {},
   "outputs": [],
   "source": [
    "JIRA_Issues[JIRA_Issues['votes'].isnull()]['votes']=0"
   ]
  },
  {
   "cell_type": "code",
   "execution_count": 34,
   "id": "e8635303",
   "metadata": {},
   "outputs": [],
   "source": [
    "JIRA_Issues[JIRA_Issues['watchCount'].isnull()]['watchCount']=0"
   ]
  },
  {
   "cell_type": "markdown",
   "id": "17980abd",
   "metadata": {},
   "source": [
    "Wyświetlenie danych"
   ]
  },
  {
   "cell_type": "code",
   "execution_count": 35,
   "id": "1211aa06",
   "metadata": {},
   "outputs": [
    {
     "data": {
      "text/html": [
       "<div>\n",
       "<style scoped>\n",
       "    .dataframe tbody tr th:only-of-type {\n",
       "        vertical-align: middle;\n",
       "    }\n",
       "\n",
       "    .dataframe tbody tr th {\n",
       "        vertical-align: top;\n",
       "    }\n",
       "\n",
       "    .dataframe thead th {\n",
       "        text-align: right;\n",
       "    }\n",
       "</style>\n",
       "<table border=\"1\" class=\"dataframe\">\n",
       "  <thead>\n",
       "    <tr style=\"text-align: right;\">\n",
       "      <th></th>\n",
       "      <th>key</th>\n",
       "      <th>summary</th>\n",
       "      <th>assignee</th>\n",
       "      <th>reporter</th>\n",
       "      <th>votes</th>\n",
       "      <th>watchCount</th>\n",
       "      <th>created</th>\n",
       "      <th>updated</th>\n",
       "      <th>status</th>\n",
       "      <th>resolution</th>\n",
       "    </tr>\n",
       "  </thead>\n",
       "  <tbody>\n",
       "    <tr>\n",
       "      <th>0</th>\n",
       "      <td>FE-7404</td>\n",
       "      <td>FISHEYE_INST Environment variable is not picke...</td>\n",
       "      <td>None</td>\n",
       "      <td>Danny Samuel</td>\n",
       "      <td>0</td>\n",
       "      <td>1</td>\n",
       "      <td>2022-05-19 12:18:39+00:00</td>\n",
       "      <td>2022-05-25 02:20:30+00:00</td>\n",
       "      <td>Short Term Backlog</td>\n",
       "      <td>None</td>\n",
       "    </tr>\n",
       "    <tr>\n",
       "      <th>1</th>\n",
       "      <td>FE-7397</td>\n",
       "      <td>CVE-2021-43955: /rest-service-fecru/server-v1 ...</td>\n",
       "      <td>None</td>\n",
       "      <td>Security Metrics Bot</td>\n",
       "      <td>0</td>\n",
       "      <td>0</td>\n",
       "      <td>2022-03-07 08:15:48+00:00</td>\n",
       "      <td>2022-03-20 20:28:29+00:00</td>\n",
       "      <td>Published</td>\n",
       "      <td>Fixed</td>\n",
       "    </tr>\n",
       "    <tr>\n",
       "      <th>2</th>\n",
       "      <td>FE-7395</td>\n",
       "      <td>CVE-2021-43956: Javascript Prototype Pollution...</td>\n",
       "      <td>None</td>\n",
       "      <td>Security Metrics Bot</td>\n",
       "      <td>0</td>\n",
       "      <td>0</td>\n",
       "      <td>2022-03-07 08:15:14+00:00</td>\n",
       "      <td>2022-03-20 20:28:34+00:00</td>\n",
       "      <td>Published</td>\n",
       "      <td>Fixed</td>\n",
       "    </tr>\n",
       "    <tr>\n",
       "      <th>3</th>\n",
       "      <td>FE-7388</td>\n",
       "      <td>CVE-2021-43957: Bypass for CVE-2020-29446 (Loc...</td>\n",
       "      <td>None</td>\n",
       "      <td>Security Metrics Bot</td>\n",
       "      <td>0</td>\n",
       "      <td>1</td>\n",
       "      <td>2022-03-07 08:02:11+00:00</td>\n",
       "      <td>2022-03-20 20:28:38+00:00</td>\n",
       "      <td>Published</td>\n",
       "      <td>Fixed</td>\n",
       "    </tr>\n",
       "    <tr>\n",
       "      <th>4</th>\n",
       "      <td>FE-7387</td>\n",
       "      <td>CVE-2021-43958: Various rest resources missing...</td>\n",
       "      <td>None</td>\n",
       "      <td>Security Metrics Bot</td>\n",
       "      <td>0</td>\n",
       "      <td>1</td>\n",
       "      <td>2022-03-07 08:01:11+00:00</td>\n",
       "      <td>2022-03-20 20:28:44+00:00</td>\n",
       "      <td>Published</td>\n",
       "      <td>Fixed</td>\n",
       "    </tr>\n",
       "  </tbody>\n",
       "</table>\n",
       "</div>"
      ],
      "text/plain": [
       "       key                                            summary assignee  \\\n",
       "0  FE-7404  FISHEYE_INST Environment variable is not picke...     None   \n",
       "1  FE-7397  CVE-2021-43955: /rest-service-fecru/server-v1 ...     None   \n",
       "2  FE-7395  CVE-2021-43956: Javascript Prototype Pollution...     None   \n",
       "3  FE-7388  CVE-2021-43957: Bypass for CVE-2020-29446 (Loc...     None   \n",
       "4  FE-7387  CVE-2021-43958: Various rest resources missing...     None   \n",
       "\n",
       "               reporter votes watchCount                   created  \\\n",
       "0          Danny Samuel     0          1 2022-05-19 12:18:39+00:00   \n",
       "1  Security Metrics Bot     0          0 2022-03-07 08:15:48+00:00   \n",
       "2  Security Metrics Bot     0          0 2022-03-07 08:15:14+00:00   \n",
       "3  Security Metrics Bot     0          1 2022-03-07 08:02:11+00:00   \n",
       "4  Security Metrics Bot     0          1 2022-03-07 08:01:11+00:00   \n",
       "\n",
       "                    updated              status resolution  \n",
       "0 2022-05-25 02:20:30+00:00  Short Term Backlog       None  \n",
       "1 2022-03-20 20:28:29+00:00           Published      Fixed  \n",
       "2 2022-03-20 20:28:34+00:00           Published      Fixed  \n",
       "3 2022-03-20 20:28:38+00:00           Published      Fixed  \n",
       "4 2022-03-20 20:28:44+00:00           Published      Fixed  "
      ]
     },
     "execution_count": 35,
     "metadata": {},
     "output_type": "execute_result"
    }
   ],
   "source": [
    "JIRA_Issues.head()"
   ]
  },
  {
   "cell_type": "markdown",
   "id": "37025950",
   "metadata": {},
   "source": [
    "# 3. Anonimizacja danych"
   ]
  },
  {
   "cell_type": "markdown",
   "id": "f227c248",
   "metadata": {},
   "source": [
    "## 3.1 Import bibliotek"
   ]
  },
  {
   "cell_type": "code",
   "execution_count": 36,
   "id": "9ecd711b",
   "metadata": {},
   "outputs": [],
   "source": [
    "from faker import Faker"
   ]
  },
  {
   "cell_type": "code",
   "execution_count": 37,
   "id": "57cb2566",
   "metadata": {},
   "outputs": [],
   "source": [
    "Anonymous = Faker()\n",
    "Faker.seed(4321)"
   ]
  },
  {
   "cell_type": "markdown",
   "id": "42dd7340",
   "metadata": {},
   "source": [
    "## 3.2 Anonimizacja zgłaszającego"
   ]
  },
  {
   "cell_type": "markdown",
   "id": "b6a2ebdd",
   "metadata": {},
   "source": [
    "Generowanie słownika anonimizującego zawierającego unikalne imiona i nazwiska osób zgłaszających i przypisane im losowe imiona i nazwiska osób z generatora."
   ]
  },
  {
   "cell_type": "code",
   "execution_count": 38,
   "id": "60862f12",
   "metadata": {},
   "outputs": [],
   "source": [
    "Anonymous_dict_names_assignee = {name: Anonymous.name() for name in JIRA_Issues['assignee'].unique()}"
   ]
  },
  {
   "cell_type": "markdown",
   "id": "da18c1ac",
   "metadata": {},
   "source": [
    "Przypisanie losowych imion i nazwisk na podstawie słownika anonimizującego"
   ]
  },
  {
   "cell_type": "code",
   "execution_count": 39,
   "id": "ec7987ea",
   "metadata": {},
   "outputs": [],
   "source": [
    "JIRA_Issues['anonymous assignee'] = JIRA_Issues['assignee'].map(Anonymous_dict_names_assignee)"
   ]
  },
  {
   "cell_type": "markdown",
   "id": "761c9b9c",
   "metadata": {},
   "source": [
    "Wyświetlenie danych"
   ]
  },
  {
   "cell_type": "code",
   "execution_count": 40,
   "id": "2aa308b7",
   "metadata": {},
   "outputs": [
    {
     "data": {
      "text/html": [
       "<div>\n",
       "<style scoped>\n",
       "    .dataframe tbody tr th:only-of-type {\n",
       "        vertical-align: middle;\n",
       "    }\n",
       "\n",
       "    .dataframe tbody tr th {\n",
       "        vertical-align: top;\n",
       "    }\n",
       "\n",
       "    .dataframe thead th {\n",
       "        text-align: right;\n",
       "    }\n",
       "</style>\n",
       "<table border=\"1\" class=\"dataframe\">\n",
       "  <thead>\n",
       "    <tr style=\"text-align: right;\">\n",
       "      <th></th>\n",
       "      <th>key</th>\n",
       "      <th>summary</th>\n",
       "      <th>assignee</th>\n",
       "      <th>reporter</th>\n",
       "      <th>votes</th>\n",
       "      <th>watchCount</th>\n",
       "      <th>created</th>\n",
       "      <th>updated</th>\n",
       "      <th>status</th>\n",
       "      <th>resolution</th>\n",
       "      <th>anonymous assignee</th>\n",
       "    </tr>\n",
       "  </thead>\n",
       "  <tbody>\n",
       "    <tr>\n",
       "      <th>0</th>\n",
       "      <td>FE-7404</td>\n",
       "      <td>FISHEYE_INST Environment variable is not picke...</td>\n",
       "      <td>None</td>\n",
       "      <td>Danny Samuel</td>\n",
       "      <td>0</td>\n",
       "      <td>1</td>\n",
       "      <td>2022-05-19 12:18:39+00:00</td>\n",
       "      <td>2022-05-25 02:20:30+00:00</td>\n",
       "      <td>Short Term Backlog</td>\n",
       "      <td>None</td>\n",
       "      <td>Jason Brown</td>\n",
       "    </tr>\n",
       "    <tr>\n",
       "      <th>1</th>\n",
       "      <td>FE-7397</td>\n",
       "      <td>CVE-2021-43955: /rest-service-fecru/server-v1 ...</td>\n",
       "      <td>None</td>\n",
       "      <td>Security Metrics Bot</td>\n",
       "      <td>0</td>\n",
       "      <td>0</td>\n",
       "      <td>2022-03-07 08:15:48+00:00</td>\n",
       "      <td>2022-03-20 20:28:29+00:00</td>\n",
       "      <td>Published</td>\n",
       "      <td>Fixed</td>\n",
       "      <td>Jason Brown</td>\n",
       "    </tr>\n",
       "    <tr>\n",
       "      <th>2</th>\n",
       "      <td>FE-7395</td>\n",
       "      <td>CVE-2021-43956: Javascript Prototype Pollution...</td>\n",
       "      <td>None</td>\n",
       "      <td>Security Metrics Bot</td>\n",
       "      <td>0</td>\n",
       "      <td>0</td>\n",
       "      <td>2022-03-07 08:15:14+00:00</td>\n",
       "      <td>2022-03-20 20:28:34+00:00</td>\n",
       "      <td>Published</td>\n",
       "      <td>Fixed</td>\n",
       "      <td>Jason Brown</td>\n",
       "    </tr>\n",
       "    <tr>\n",
       "      <th>3</th>\n",
       "      <td>FE-7388</td>\n",
       "      <td>CVE-2021-43957: Bypass for CVE-2020-29446 (Loc...</td>\n",
       "      <td>None</td>\n",
       "      <td>Security Metrics Bot</td>\n",
       "      <td>0</td>\n",
       "      <td>1</td>\n",
       "      <td>2022-03-07 08:02:11+00:00</td>\n",
       "      <td>2022-03-20 20:28:38+00:00</td>\n",
       "      <td>Published</td>\n",
       "      <td>Fixed</td>\n",
       "      <td>Jason Brown</td>\n",
       "    </tr>\n",
       "    <tr>\n",
       "      <th>4</th>\n",
       "      <td>FE-7387</td>\n",
       "      <td>CVE-2021-43958: Various rest resources missing...</td>\n",
       "      <td>None</td>\n",
       "      <td>Security Metrics Bot</td>\n",
       "      <td>0</td>\n",
       "      <td>1</td>\n",
       "      <td>2022-03-07 08:01:11+00:00</td>\n",
       "      <td>2022-03-20 20:28:44+00:00</td>\n",
       "      <td>Published</td>\n",
       "      <td>Fixed</td>\n",
       "      <td>Jason Brown</td>\n",
       "    </tr>\n",
       "  </tbody>\n",
       "</table>\n",
       "</div>"
      ],
      "text/plain": [
       "       key                                            summary assignee  \\\n",
       "0  FE-7404  FISHEYE_INST Environment variable is not picke...     None   \n",
       "1  FE-7397  CVE-2021-43955: /rest-service-fecru/server-v1 ...     None   \n",
       "2  FE-7395  CVE-2021-43956: Javascript Prototype Pollution...     None   \n",
       "3  FE-7388  CVE-2021-43957: Bypass for CVE-2020-29446 (Loc...     None   \n",
       "4  FE-7387  CVE-2021-43958: Various rest resources missing...     None   \n",
       "\n",
       "               reporter votes watchCount                   created  \\\n",
       "0          Danny Samuel     0          1 2022-05-19 12:18:39+00:00   \n",
       "1  Security Metrics Bot     0          0 2022-03-07 08:15:48+00:00   \n",
       "2  Security Metrics Bot     0          0 2022-03-07 08:15:14+00:00   \n",
       "3  Security Metrics Bot     0          1 2022-03-07 08:02:11+00:00   \n",
       "4  Security Metrics Bot     0          1 2022-03-07 08:01:11+00:00   \n",
       "\n",
       "                    updated              status resolution anonymous assignee  \n",
       "0 2022-05-25 02:20:30+00:00  Short Term Backlog       None        Jason Brown  \n",
       "1 2022-03-20 20:28:29+00:00           Published      Fixed        Jason Brown  \n",
       "2 2022-03-20 20:28:34+00:00           Published      Fixed        Jason Brown  \n",
       "3 2022-03-20 20:28:38+00:00           Published      Fixed        Jason Brown  \n",
       "4 2022-03-20 20:28:44+00:00           Published      Fixed        Jason Brown  "
      ]
     },
     "execution_count": 40,
     "metadata": {},
     "output_type": "execute_result"
    }
   ],
   "source": [
    "JIRA_Issues.head()"
   ]
  },
  {
   "cell_type": "markdown",
   "id": "69b193fc",
   "metadata": {},
   "source": [
    "## 3.3 Anonimizacja obsługującego zgłoszenie"
   ]
  },
  {
   "cell_type": "markdown",
   "id": "660b7c69",
   "metadata": {},
   "source": [
    "Generowanie słownika anonimizującego zawierającego unikalne imiona i nazwiska osób obslugujących i przypisane im losowe imiona i nazwiska osób z generatora."
   ]
  },
  {
   "cell_type": "code",
   "execution_count": 41,
   "id": "8d489308",
   "metadata": {},
   "outputs": [],
   "source": [
    "Anonymous_dict_names_reporter = {name: Anonymous.name() for name in JIRA_Issues['reporter'].unique()}"
   ]
  },
  {
   "cell_type": "markdown",
   "id": "22eacf8b",
   "metadata": {},
   "source": [
    "Przypisanie losowych imion i nazwisk na podstawie słownika anonimizującego"
   ]
  },
  {
   "cell_type": "code",
   "execution_count": 42,
   "id": "1e47c7fd",
   "metadata": {},
   "outputs": [],
   "source": [
    "JIRA_Issues['anonymous reporter'] = JIRA_Issues['reporter'].map(Anonymous_dict_names_reporter)"
   ]
  },
  {
   "cell_type": "markdown",
   "id": "a2c2029d",
   "metadata": {},
   "source": [
    "Wyświetlenie danych"
   ]
  },
  {
   "cell_type": "code",
   "execution_count": 43,
   "id": "1b9070a1",
   "metadata": {},
   "outputs": [
    {
     "data": {
      "text/html": [
       "<div>\n",
       "<style scoped>\n",
       "    .dataframe tbody tr th:only-of-type {\n",
       "        vertical-align: middle;\n",
       "    }\n",
       "\n",
       "    .dataframe tbody tr th {\n",
       "        vertical-align: top;\n",
       "    }\n",
       "\n",
       "    .dataframe thead th {\n",
       "        text-align: right;\n",
       "    }\n",
       "</style>\n",
       "<table border=\"1\" class=\"dataframe\">\n",
       "  <thead>\n",
       "    <tr style=\"text-align: right;\">\n",
       "      <th></th>\n",
       "      <th>key</th>\n",
       "      <th>summary</th>\n",
       "      <th>assignee</th>\n",
       "      <th>reporter</th>\n",
       "      <th>votes</th>\n",
       "      <th>watchCount</th>\n",
       "      <th>created</th>\n",
       "      <th>updated</th>\n",
       "      <th>status</th>\n",
       "      <th>resolution</th>\n",
       "      <th>anonymous assignee</th>\n",
       "      <th>anonymous reporter</th>\n",
       "    </tr>\n",
       "  </thead>\n",
       "  <tbody>\n",
       "    <tr>\n",
       "      <th>0</th>\n",
       "      <td>FE-7404</td>\n",
       "      <td>FISHEYE_INST Environment variable is not picke...</td>\n",
       "      <td>None</td>\n",
       "      <td>Danny Samuel</td>\n",
       "      <td>0</td>\n",
       "      <td>1</td>\n",
       "      <td>2022-05-19 12:18:39+00:00</td>\n",
       "      <td>2022-05-25 02:20:30+00:00</td>\n",
       "      <td>Short Term Backlog</td>\n",
       "      <td>None</td>\n",
       "      <td>Jason Brown</td>\n",
       "      <td>David Moody</td>\n",
       "    </tr>\n",
       "    <tr>\n",
       "      <th>1</th>\n",
       "      <td>FE-7397</td>\n",
       "      <td>CVE-2021-43955: /rest-service-fecru/server-v1 ...</td>\n",
       "      <td>None</td>\n",
       "      <td>Security Metrics Bot</td>\n",
       "      <td>0</td>\n",
       "      <td>0</td>\n",
       "      <td>2022-03-07 08:15:48+00:00</td>\n",
       "      <td>2022-03-20 20:28:29+00:00</td>\n",
       "      <td>Published</td>\n",
       "      <td>Fixed</td>\n",
       "      <td>Jason Brown</td>\n",
       "      <td>Brian Maxwell</td>\n",
       "    </tr>\n",
       "    <tr>\n",
       "      <th>2</th>\n",
       "      <td>FE-7395</td>\n",
       "      <td>CVE-2021-43956: Javascript Prototype Pollution...</td>\n",
       "      <td>None</td>\n",
       "      <td>Security Metrics Bot</td>\n",
       "      <td>0</td>\n",
       "      <td>0</td>\n",
       "      <td>2022-03-07 08:15:14+00:00</td>\n",
       "      <td>2022-03-20 20:28:34+00:00</td>\n",
       "      <td>Published</td>\n",
       "      <td>Fixed</td>\n",
       "      <td>Jason Brown</td>\n",
       "      <td>Brian Maxwell</td>\n",
       "    </tr>\n",
       "    <tr>\n",
       "      <th>3</th>\n",
       "      <td>FE-7388</td>\n",
       "      <td>CVE-2021-43957: Bypass for CVE-2020-29446 (Loc...</td>\n",
       "      <td>None</td>\n",
       "      <td>Security Metrics Bot</td>\n",
       "      <td>0</td>\n",
       "      <td>1</td>\n",
       "      <td>2022-03-07 08:02:11+00:00</td>\n",
       "      <td>2022-03-20 20:28:38+00:00</td>\n",
       "      <td>Published</td>\n",
       "      <td>Fixed</td>\n",
       "      <td>Jason Brown</td>\n",
       "      <td>Brian Maxwell</td>\n",
       "    </tr>\n",
       "    <tr>\n",
       "      <th>4</th>\n",
       "      <td>FE-7387</td>\n",
       "      <td>CVE-2021-43958: Various rest resources missing...</td>\n",
       "      <td>None</td>\n",
       "      <td>Security Metrics Bot</td>\n",
       "      <td>0</td>\n",
       "      <td>1</td>\n",
       "      <td>2022-03-07 08:01:11+00:00</td>\n",
       "      <td>2022-03-20 20:28:44+00:00</td>\n",
       "      <td>Published</td>\n",
       "      <td>Fixed</td>\n",
       "      <td>Jason Brown</td>\n",
       "      <td>Brian Maxwell</td>\n",
       "    </tr>\n",
       "  </tbody>\n",
       "</table>\n",
       "</div>"
      ],
      "text/plain": [
       "       key                                            summary assignee  \\\n",
       "0  FE-7404  FISHEYE_INST Environment variable is not picke...     None   \n",
       "1  FE-7397  CVE-2021-43955: /rest-service-fecru/server-v1 ...     None   \n",
       "2  FE-7395  CVE-2021-43956: Javascript Prototype Pollution...     None   \n",
       "3  FE-7388  CVE-2021-43957: Bypass for CVE-2020-29446 (Loc...     None   \n",
       "4  FE-7387  CVE-2021-43958: Various rest resources missing...     None   \n",
       "\n",
       "               reporter votes watchCount                   created  \\\n",
       "0          Danny Samuel     0          1 2022-05-19 12:18:39+00:00   \n",
       "1  Security Metrics Bot     0          0 2022-03-07 08:15:48+00:00   \n",
       "2  Security Metrics Bot     0          0 2022-03-07 08:15:14+00:00   \n",
       "3  Security Metrics Bot     0          1 2022-03-07 08:02:11+00:00   \n",
       "4  Security Metrics Bot     0          1 2022-03-07 08:01:11+00:00   \n",
       "\n",
       "                    updated              status resolution anonymous assignee  \\\n",
       "0 2022-05-25 02:20:30+00:00  Short Term Backlog       None        Jason Brown   \n",
       "1 2022-03-20 20:28:29+00:00           Published      Fixed        Jason Brown   \n",
       "2 2022-03-20 20:28:34+00:00           Published      Fixed        Jason Brown   \n",
       "3 2022-03-20 20:28:38+00:00           Published      Fixed        Jason Brown   \n",
       "4 2022-03-20 20:28:44+00:00           Published      Fixed        Jason Brown   \n",
       "\n",
       "  anonymous reporter  \n",
       "0        David Moody  \n",
       "1      Brian Maxwell  \n",
       "2      Brian Maxwell  \n",
       "3      Brian Maxwell  \n",
       "4      Brian Maxwell  "
      ]
     },
     "execution_count": 43,
     "metadata": {},
     "output_type": "execute_result"
    }
   ],
   "source": [
    "JIRA_Issues.head()"
   ]
  },
  {
   "cell_type": "markdown",
   "id": "5d0c80a2",
   "metadata": {},
   "source": [
    "## 3.4 Anonimizacja autora zgłoszenia"
   ]
  },
  {
   "cell_type": "markdown",
   "id": "53fe0e08",
   "metadata": {},
   "source": [
    "Generowanie słownika anonimizującego zawierającego unikalne imiona i nazwiska autorów komentarzy i przypisane im losowe imiona i nazwiska osób z generatora."
   ]
  },
  {
   "cell_type": "code",
   "execution_count": 44,
   "id": "d71198a0",
   "metadata": {},
   "outputs": [],
   "source": [
    "Anonymous_dict_names_reporter = {name: Anonymous.name() for name in JIRA_comments['author'].unique()}"
   ]
  },
  {
   "cell_type": "markdown",
   "id": "797a5a9a",
   "metadata": {},
   "source": [
    "Generowanie słownika anonimizującego zawierającego unikalne imiona i nazwiska autorów komentarzy i przypisane im losowe imiona i nazwiska osób z generatora."
   ]
  },
  {
   "cell_type": "code",
   "execution_count": 45,
   "id": "8fd72786",
   "metadata": {},
   "outputs": [],
   "source": [
    "JIRA_comments['anonymous author'] = JIRA_comments['author'].map(Anonymous_dict_names_reporter)"
   ]
  },
  {
   "cell_type": "markdown",
   "id": "7cdbc914",
   "metadata": {},
   "source": [
    "Wyświetlanie danych"
   ]
  },
  {
   "cell_type": "code",
   "execution_count": 46,
   "id": "b5149fbe",
   "metadata": {},
   "outputs": [
    {
     "data": {
      "text/html": [
       "<div>\n",
       "<style scoped>\n",
       "    .dataframe tbody tr th:only-of-type {\n",
       "        vertical-align: middle;\n",
       "    }\n",
       "\n",
       "    .dataframe tbody tr th {\n",
       "        vertical-align: top;\n",
       "    }\n",
       "\n",
       "    .dataframe thead th {\n",
       "        text-align: right;\n",
       "    }\n",
       "</style>\n",
       "<table border=\"1\" class=\"dataframe\">\n",
       "  <thead>\n",
       "    <tr style=\"text-align: right;\">\n",
       "      <th></th>\n",
       "      <th>author</th>\n",
       "      <th>body</th>\n",
       "      <th>date</th>\n",
       "      <th>key</th>\n",
       "      <th>anonymous author</th>\n",
       "    </tr>\n",
       "  </thead>\n",
       "  <tbody>\n",
       "    <tr>\n",
       "      <th>0</th>\n",
       "      <td>David Black</td>\n",
       "      <td>This is an independent assessment and you shou...</td>\n",
       "      <td>2022-03-14T03:32:34.252+0000</td>\n",
       "      <td>FE-7397</td>\n",
       "      <td>Bobby Mack</td>\n",
       "    </tr>\n",
       "    <tr>\n",
       "      <th>1</th>\n",
       "      <td>David Black</td>\n",
       "      <td>This is an independent assessment and you shou...</td>\n",
       "      <td>2022-03-14T04:36:28.408+0000</td>\n",
       "      <td>FE-7395</td>\n",
       "      <td>Bobby Mack</td>\n",
       "    </tr>\n",
       "    <tr>\n",
       "      <th>2</th>\n",
       "      <td>David Black</td>\n",
       "      <td>This is an independent assessment and you shou...</td>\n",
       "      <td>2022-03-14T05:10:51.437+0000</td>\n",
       "      <td>FE-7388</td>\n",
       "      <td>Bobby Mack</td>\n",
       "    </tr>\n",
       "    <tr>\n",
       "      <th>3</th>\n",
       "      <td>David Black</td>\n",
       "      <td>This is an independent assessment and you shou...</td>\n",
       "      <td>2022-03-14T05:46:09.578+0000</td>\n",
       "      <td>FE-7387</td>\n",
       "      <td>Bobby Mack</td>\n",
       "    </tr>\n",
       "    <tr>\n",
       "      <th>4</th>\n",
       "      <td>David Black</td>\n",
       "      <td>This is an independent assessment and you shou...</td>\n",
       "      <td>2022-03-04T02:33:48.159+0000</td>\n",
       "      <td>FE-7384</td>\n",
       "      <td>Bobby Mack</td>\n",
       "    </tr>\n",
       "  </tbody>\n",
       "</table>\n",
       "</div>"
      ],
      "text/plain": [
       "        author                                               body  \\\n",
       "0  David Black  This is an independent assessment and you shou...   \n",
       "1  David Black  This is an independent assessment and you shou...   \n",
       "2  David Black  This is an independent assessment and you shou...   \n",
       "3  David Black  This is an independent assessment and you shou...   \n",
       "4  David Black  This is an independent assessment and you shou...   \n",
       "\n",
       "                           date      key anonymous author  \n",
       "0  2022-03-14T03:32:34.252+0000  FE-7397       Bobby Mack  \n",
       "1  2022-03-14T04:36:28.408+0000  FE-7395       Bobby Mack  \n",
       "2  2022-03-14T05:10:51.437+0000  FE-7388       Bobby Mack  \n",
       "3  2022-03-14T05:46:09.578+0000  FE-7387       Bobby Mack  \n",
       "4  2022-03-04T02:33:48.159+0000  FE-7384       Bobby Mack  "
      ]
     },
     "execution_count": 46,
     "metadata": {},
     "output_type": "execute_result"
    }
   ],
   "source": [
    "JIRA_comments.head()"
   ]
  },
  {
   "cell_type": "markdown",
   "id": "81f0b341",
   "metadata": {},
   "source": [
    "## 3.5 Usuwanie danych wrażliwych"
   ]
  },
  {
   "cell_type": "markdown",
   "id": "be557e8e",
   "metadata": {},
   "source": [
    "Usuwanie danych wrażliwych z komentarzy"
   ]
  },
  {
   "cell_type": "code",
   "execution_count": 47,
   "id": "533a5642",
   "metadata": {},
   "outputs": [],
   "source": [
    "JIRA_comments.drop('author', axis=1, inplace=True);"
   ]
  },
  {
   "cell_type": "markdown",
   "id": "d3651b6a",
   "metadata": {},
   "source": [
    "Wyświetlanie danych"
   ]
  },
  {
   "cell_type": "code",
   "execution_count": 48,
   "id": "a7e62cc3",
   "metadata": {},
   "outputs": [
    {
     "data": {
      "text/html": [
       "<div>\n",
       "<style scoped>\n",
       "    .dataframe tbody tr th:only-of-type {\n",
       "        vertical-align: middle;\n",
       "    }\n",
       "\n",
       "    .dataframe tbody tr th {\n",
       "        vertical-align: top;\n",
       "    }\n",
       "\n",
       "    .dataframe thead th {\n",
       "        text-align: right;\n",
       "    }\n",
       "</style>\n",
       "<table border=\"1\" class=\"dataframe\">\n",
       "  <thead>\n",
       "    <tr style=\"text-align: right;\">\n",
       "      <th></th>\n",
       "      <th>body</th>\n",
       "      <th>date</th>\n",
       "      <th>key</th>\n",
       "      <th>anonymous author</th>\n",
       "    </tr>\n",
       "  </thead>\n",
       "  <tbody>\n",
       "    <tr>\n",
       "      <th>0</th>\n",
       "      <td>This is an independent assessment and you shou...</td>\n",
       "      <td>2022-03-14T03:32:34.252+0000</td>\n",
       "      <td>FE-7397</td>\n",
       "      <td>Bobby Mack</td>\n",
       "    </tr>\n",
       "    <tr>\n",
       "      <th>1</th>\n",
       "      <td>This is an independent assessment and you shou...</td>\n",
       "      <td>2022-03-14T04:36:28.408+0000</td>\n",
       "      <td>FE-7395</td>\n",
       "      <td>Bobby Mack</td>\n",
       "    </tr>\n",
       "    <tr>\n",
       "      <th>2</th>\n",
       "      <td>This is an independent assessment and you shou...</td>\n",
       "      <td>2022-03-14T05:10:51.437+0000</td>\n",
       "      <td>FE-7388</td>\n",
       "      <td>Bobby Mack</td>\n",
       "    </tr>\n",
       "    <tr>\n",
       "      <th>3</th>\n",
       "      <td>This is an independent assessment and you shou...</td>\n",
       "      <td>2022-03-14T05:46:09.578+0000</td>\n",
       "      <td>FE-7387</td>\n",
       "      <td>Bobby Mack</td>\n",
       "    </tr>\n",
       "    <tr>\n",
       "      <th>4</th>\n",
       "      <td>This is an independent assessment and you shou...</td>\n",
       "      <td>2022-03-04T02:33:48.159+0000</td>\n",
       "      <td>FE-7384</td>\n",
       "      <td>Bobby Mack</td>\n",
       "    </tr>\n",
       "  </tbody>\n",
       "</table>\n",
       "</div>"
      ],
      "text/plain": [
       "                                                body  \\\n",
       "0  This is an independent assessment and you shou...   \n",
       "1  This is an independent assessment and you shou...   \n",
       "2  This is an independent assessment and you shou...   \n",
       "3  This is an independent assessment and you shou...   \n",
       "4  This is an independent assessment and you shou...   \n",
       "\n",
       "                           date      key anonymous author  \n",
       "0  2022-03-14T03:32:34.252+0000  FE-7397       Bobby Mack  \n",
       "1  2022-03-14T04:36:28.408+0000  FE-7395       Bobby Mack  \n",
       "2  2022-03-14T05:10:51.437+0000  FE-7388       Bobby Mack  \n",
       "3  2022-03-14T05:46:09.578+0000  FE-7387       Bobby Mack  \n",
       "4  2022-03-04T02:33:48.159+0000  FE-7384       Bobby Mack  "
      ]
     },
     "execution_count": 48,
     "metadata": {},
     "output_type": "execute_result"
    }
   ],
   "source": [
    "JIRA_comments.head()"
   ]
  },
  {
   "cell_type": "markdown",
   "id": "8a006924",
   "metadata": {},
   "source": [
    "Usuwanie danych wrażliwych ze zgłoszeń"
   ]
  },
  {
   "cell_type": "code",
   "execution_count": 49,
   "id": "ce3115e5",
   "metadata": {},
   "outputs": [],
   "source": [
    "JIRA_Issues.drop('assignee', axis=1, inplace=True);"
   ]
  },
  {
   "cell_type": "code",
   "execution_count": 50,
   "id": "10d9a992",
   "metadata": {},
   "outputs": [],
   "source": [
    "JIRA_Issues.drop('reporter', axis=1, inplace=True);"
   ]
  },
  {
   "cell_type": "markdown",
   "id": "c8870368",
   "metadata": {},
   "source": [
    "Wyświetlanie danych"
   ]
  },
  {
   "cell_type": "code",
   "execution_count": 51,
   "id": "cf06d277",
   "metadata": {},
   "outputs": [
    {
     "data": {
      "text/html": [
       "<div>\n",
       "<style scoped>\n",
       "    .dataframe tbody tr th:only-of-type {\n",
       "        vertical-align: middle;\n",
       "    }\n",
       "\n",
       "    .dataframe tbody tr th {\n",
       "        vertical-align: top;\n",
       "    }\n",
       "\n",
       "    .dataframe thead th {\n",
       "        text-align: right;\n",
       "    }\n",
       "</style>\n",
       "<table border=\"1\" class=\"dataframe\">\n",
       "  <thead>\n",
       "    <tr style=\"text-align: right;\">\n",
       "      <th></th>\n",
       "      <th>key</th>\n",
       "      <th>summary</th>\n",
       "      <th>votes</th>\n",
       "      <th>watchCount</th>\n",
       "      <th>created</th>\n",
       "      <th>updated</th>\n",
       "      <th>status</th>\n",
       "      <th>resolution</th>\n",
       "      <th>anonymous assignee</th>\n",
       "      <th>anonymous reporter</th>\n",
       "    </tr>\n",
       "  </thead>\n",
       "  <tbody>\n",
       "    <tr>\n",
       "      <th>0</th>\n",
       "      <td>FE-7404</td>\n",
       "      <td>FISHEYE_INST Environment variable is not picke...</td>\n",
       "      <td>0</td>\n",
       "      <td>1</td>\n",
       "      <td>2022-05-19 12:18:39+00:00</td>\n",
       "      <td>2022-05-25 02:20:30+00:00</td>\n",
       "      <td>Short Term Backlog</td>\n",
       "      <td>None</td>\n",
       "      <td>Jason Brown</td>\n",
       "      <td>David Moody</td>\n",
       "    </tr>\n",
       "    <tr>\n",
       "      <th>1</th>\n",
       "      <td>FE-7397</td>\n",
       "      <td>CVE-2021-43955: /rest-service-fecru/server-v1 ...</td>\n",
       "      <td>0</td>\n",
       "      <td>0</td>\n",
       "      <td>2022-03-07 08:15:48+00:00</td>\n",
       "      <td>2022-03-20 20:28:29+00:00</td>\n",
       "      <td>Published</td>\n",
       "      <td>Fixed</td>\n",
       "      <td>Jason Brown</td>\n",
       "      <td>Brian Maxwell</td>\n",
       "    </tr>\n",
       "    <tr>\n",
       "      <th>2</th>\n",
       "      <td>FE-7395</td>\n",
       "      <td>CVE-2021-43956: Javascript Prototype Pollution...</td>\n",
       "      <td>0</td>\n",
       "      <td>0</td>\n",
       "      <td>2022-03-07 08:15:14+00:00</td>\n",
       "      <td>2022-03-20 20:28:34+00:00</td>\n",
       "      <td>Published</td>\n",
       "      <td>Fixed</td>\n",
       "      <td>Jason Brown</td>\n",
       "      <td>Brian Maxwell</td>\n",
       "    </tr>\n",
       "    <tr>\n",
       "      <th>3</th>\n",
       "      <td>FE-7388</td>\n",
       "      <td>CVE-2021-43957: Bypass for CVE-2020-29446 (Loc...</td>\n",
       "      <td>0</td>\n",
       "      <td>1</td>\n",
       "      <td>2022-03-07 08:02:11+00:00</td>\n",
       "      <td>2022-03-20 20:28:38+00:00</td>\n",
       "      <td>Published</td>\n",
       "      <td>Fixed</td>\n",
       "      <td>Jason Brown</td>\n",
       "      <td>Brian Maxwell</td>\n",
       "    </tr>\n",
       "    <tr>\n",
       "      <th>4</th>\n",
       "      <td>FE-7387</td>\n",
       "      <td>CVE-2021-43958: Various rest resources missing...</td>\n",
       "      <td>0</td>\n",
       "      <td>1</td>\n",
       "      <td>2022-03-07 08:01:11+00:00</td>\n",
       "      <td>2022-03-20 20:28:44+00:00</td>\n",
       "      <td>Published</td>\n",
       "      <td>Fixed</td>\n",
       "      <td>Jason Brown</td>\n",
       "      <td>Brian Maxwell</td>\n",
       "    </tr>\n",
       "  </tbody>\n",
       "</table>\n",
       "</div>"
      ],
      "text/plain": [
       "       key                                            summary votes  \\\n",
       "0  FE-7404  FISHEYE_INST Environment variable is not picke...     0   \n",
       "1  FE-7397  CVE-2021-43955: /rest-service-fecru/server-v1 ...     0   \n",
       "2  FE-7395  CVE-2021-43956: Javascript Prototype Pollution...     0   \n",
       "3  FE-7388  CVE-2021-43957: Bypass for CVE-2020-29446 (Loc...     0   \n",
       "4  FE-7387  CVE-2021-43958: Various rest resources missing...     0   \n",
       "\n",
       "  watchCount                   created                   updated  \\\n",
       "0          1 2022-05-19 12:18:39+00:00 2022-05-25 02:20:30+00:00   \n",
       "1          0 2022-03-07 08:15:48+00:00 2022-03-20 20:28:29+00:00   \n",
       "2          0 2022-03-07 08:15:14+00:00 2022-03-20 20:28:34+00:00   \n",
       "3          1 2022-03-07 08:02:11+00:00 2022-03-20 20:28:38+00:00   \n",
       "4          1 2022-03-07 08:01:11+00:00 2022-03-20 20:28:44+00:00   \n",
       "\n",
       "               status resolution anonymous assignee anonymous reporter  \n",
       "0  Short Term Backlog       None        Jason Brown        David Moody  \n",
       "1           Published      Fixed        Jason Brown      Brian Maxwell  \n",
       "2           Published      Fixed        Jason Brown      Brian Maxwell  \n",
       "3           Published      Fixed        Jason Brown      Brian Maxwell  \n",
       "4           Published      Fixed        Jason Brown      Brian Maxwell  "
      ]
     },
     "execution_count": 51,
     "metadata": {},
     "output_type": "execute_result"
    }
   ],
   "source": [
    "JIRA_Issues.head()"
   ]
  },
  {
   "cell_type": "markdown",
   "id": "7544c02d",
   "metadata": {},
   "source": [
    "# 4. Export danych do S3"
   ]
  },
  {
   "cell_type": "markdown",
   "id": "8216bda4",
   "metadata": {},
   "source": [
    "## 4.1 Import bibliotek"
   ]
  },
  {
   "cell_type": "code",
   "execution_count": 52,
   "id": "8b2b490e",
   "metadata": {},
   "outputs": [],
   "source": [
    "import boto3"
   ]
  },
  {
   "cell_type": "code",
   "execution_count": 53,
   "id": "eacc0e31",
   "metadata": {},
   "outputs": [],
   "source": [
    "from io import StringIO"
   ]
  },
  {
   "cell_type": "markdown",
   "id": "260ed55a",
   "metadata": {},
   "source": [
    "## 4.2 Export danych"
   ]
  },
  {
   "cell_type": "markdown",
   "id": "57375827",
   "metadata": {},
   "source": [
    "Weryfikacja czy połączenie do buceta jest poprawnie skonfigurowane"
   ]
  },
  {
   "cell_type": "code",
   "execution_count": 54,
   "id": "6b334d98",
   "metadata": {},
   "outputs": [
    {
     "name": "stdout",
     "output_type": "stream",
     "text": [
      "studiapwrkarbarz\n"
     ]
    }
   ],
   "source": [
    "s3 = boto3.resource(\"s3\")\n",
    "# Print out bucket names\n",
    "for bucket in s3.buckets.all():\n",
    "    print(bucket.name)"
   ]
  },
  {
   "cell_type": "markdown",
   "id": "c538cf7d",
   "metadata": {},
   "source": [
    "Zapis danych JIRA_Issues do bucketu studiapwrkarbarz/JIRA_Issues.csv"
   ]
  },
  {
   "cell_type": "code",
   "execution_count": 55,
   "id": "c0b9f551",
   "metadata": {},
   "outputs": [
    {
     "data": {
      "text/plain": [
       "{'ResponseMetadata': {'RequestId': 'BJPH7MXQ14KMTYWS',\n",
       "  'HostId': 'nwovEiF90eTKeodvnC5YxqIuz+gM4ogJgdZBwnnitqeMx9uQj3Qk09tUIkCZLjwLEIzMWHs+6Qw=',\n",
       "  'HTTPStatusCode': 200,\n",
       "  'HTTPHeaders': {'x-amz-id-2': 'nwovEiF90eTKeodvnC5YxqIuz+gM4ogJgdZBwnnitqeMx9uQj3Qk09tUIkCZLjwLEIzMWHs+6Qw=',\n",
       "   'x-amz-request-id': 'BJPH7MXQ14KMTYWS',\n",
       "   'date': 'Wed, 25 May 2022 14:07:53 GMT',\n",
       "   'etag': '\"98b8687993bb7e72f1f2971f6268eed5\"',\n",
       "   'server': 'AmazonS3',\n",
       "   'content-length': '0'},\n",
       "  'RetryAttempts': 0},\n",
       " 'ETag': '\"98b8687993bb7e72f1f2971f6268eed5\"'}"
      ]
     },
     "execution_count": 55,
     "metadata": {},
     "output_type": "execute_result"
    }
   ],
   "source": [
    "bucket = 'studiapwrkarbarz' # already created on S3\n",
    "csv_buffer = StringIO()\n",
    "JIRA_Issues.to_csv(csv_buffer)\n",
    "s3_resource = boto3.resource('s3')\n",
    "s3_resource.Object(bucket, 'JIRA_Issues.csv').put(Body=csv_buffer.getvalue())"
   ]
  },
  {
   "cell_type": "markdown",
   "id": "8b10c6ff",
   "metadata": {},
   "source": [
    "Zapis danych JIRA_Issues do bucketu studiapwrkarbarz/JIRA_comments.csv"
   ]
  },
  {
   "cell_type": "code",
   "execution_count": 56,
   "id": "d9fa3094",
   "metadata": {},
   "outputs": [
    {
     "data": {
      "text/plain": [
       "{'ResponseMetadata': {'RequestId': '6MXDVKZRBQ8HFHWD',\n",
       "  'HostId': 'cFIsPJe0og4ScungZW+TGloqquOXi0h15GqHGjz8RBeBMT+9MuGz3paTaqR8bwjUdCGJhgG+up8=',\n",
       "  'HTTPStatusCode': 200,\n",
       "  'HTTPHeaders': {'x-amz-id-2': 'cFIsPJe0og4ScungZW+TGloqquOXi0h15GqHGjz8RBeBMT+9MuGz3paTaqR8bwjUdCGJhgG+up8=',\n",
       "   'x-amz-request-id': '6MXDVKZRBQ8HFHWD',\n",
       "   'date': 'Wed, 25 May 2022 14:07:54 GMT',\n",
       "   'etag': '\"81017f3b7e2624ede9466b34ea019b8b\"',\n",
       "   'server': 'AmazonS3',\n",
       "   'content-length': '0'},\n",
       "  'RetryAttempts': 0},\n",
       " 'ETag': '\"81017f3b7e2624ede9466b34ea019b8b\"'}"
      ]
     },
     "execution_count": 56,
     "metadata": {},
     "output_type": "execute_result"
    }
   ],
   "source": [
    "bucket = 'studiapwrkarbarz' # already created on S3\n",
    "csv_buffer = StringIO()\n",
    "JIRA_comments.to_csv(csv_buffer)\n",
    "s3_resource = boto3.resource('s3')\n",
    "s3_resource.Object(bucket, 'JIRA_comments.csv').put(Body=csv_buffer.getvalue())"
   ]
  },
  {
   "cell_type": "markdown",
   "id": "ec7fb70b",
   "metadata": {},
   "source": []
  },
  {
   "cell_type": "markdown",
   "id": "c9596f89",
   "metadata": {},
   "source": [
    "# 5. Import danych z S3"
   ]
  },
  {
   "cell_type": "markdown",
   "id": "bd938eb6",
   "metadata": {},
   "source": [
    "## 5.1 Import bibliotek"
   ]
  },
  {
   "cell_type": "code",
   "execution_count": 57,
   "id": "0d4d8a80",
   "metadata": {},
   "outputs": [],
   "source": [
    "import boto3"
   ]
  },
  {
   "cell_type": "code",
   "execution_count": 58,
   "id": "4751f249",
   "metadata": {},
   "outputs": [],
   "source": [
    "from io import BytesIO"
   ]
  },
  {
   "cell_type": "markdown",
   "id": "ac2123c5",
   "metadata": {},
   "source": [
    "## 5.2 Import danych"
   ]
  },
  {
   "cell_type": "code",
   "execution_count": 59,
   "id": "5042a68d",
   "metadata": {},
   "outputs": [],
   "source": [
    "bucket = \"studiapwrkarbarz\"\n",
    "filename = \"JIRA_comments.csv\"\n",
    "\n",
    "s3 = boto3.resource('s3')\n",
    "obj = s3.Object(bucket, filename)\n",
    "with BytesIO(obj.get()['Body'].read()) as bio:\n",
    "    JIRA_comments = pd.read_csv(bio)"
   ]
  },
  {
   "cell_type": "code",
   "execution_count": 60,
   "id": "a79ee99c",
   "metadata": {},
   "outputs": [
    {
     "data": {
      "text/html": [
       "<div>\n",
       "<style scoped>\n",
       "    .dataframe tbody tr th:only-of-type {\n",
       "        vertical-align: middle;\n",
       "    }\n",
       "\n",
       "    .dataframe tbody tr th {\n",
       "        vertical-align: top;\n",
       "    }\n",
       "\n",
       "    .dataframe thead th {\n",
       "        text-align: right;\n",
       "    }\n",
       "</style>\n",
       "<table border=\"1\" class=\"dataframe\">\n",
       "  <thead>\n",
       "    <tr style=\"text-align: right;\">\n",
       "      <th></th>\n",
       "      <th>Unnamed: 0</th>\n",
       "      <th>body</th>\n",
       "      <th>date</th>\n",
       "      <th>key</th>\n",
       "      <th>anonymous author</th>\n",
       "    </tr>\n",
       "  </thead>\n",
       "  <tbody>\n",
       "    <tr>\n",
       "      <th>0</th>\n",
       "      <td>0</td>\n",
       "      <td>This is an independent assessment and you shou...</td>\n",
       "      <td>2022-03-14T03:32:34.252+0000</td>\n",
       "      <td>FE-7397</td>\n",
       "      <td>Bobby Mack</td>\n",
       "    </tr>\n",
       "    <tr>\n",
       "      <th>1</th>\n",
       "      <td>1</td>\n",
       "      <td>This is an independent assessment and you shou...</td>\n",
       "      <td>2022-03-14T04:36:28.408+0000</td>\n",
       "      <td>FE-7395</td>\n",
       "      <td>Bobby Mack</td>\n",
       "    </tr>\n",
       "    <tr>\n",
       "      <th>2</th>\n",
       "      <td>2</td>\n",
       "      <td>This is an independent assessment and you shou...</td>\n",
       "      <td>2022-03-14T05:10:51.437+0000</td>\n",
       "      <td>FE-7388</td>\n",
       "      <td>Bobby Mack</td>\n",
       "    </tr>\n",
       "    <tr>\n",
       "      <th>3</th>\n",
       "      <td>3</td>\n",
       "      <td>This is an independent assessment and you shou...</td>\n",
       "      <td>2022-03-14T05:46:09.578+0000</td>\n",
       "      <td>FE-7387</td>\n",
       "      <td>Bobby Mack</td>\n",
       "    </tr>\n",
       "    <tr>\n",
       "      <th>4</th>\n",
       "      <td>4</td>\n",
       "      <td>This is an independent assessment and you shou...</td>\n",
       "      <td>2022-03-04T02:33:48.159+0000</td>\n",
       "      <td>FE-7384</td>\n",
       "      <td>Bobby Mack</td>\n",
       "    </tr>\n",
       "  </tbody>\n",
       "</table>\n",
       "</div>"
      ],
      "text/plain": [
       "   Unnamed: 0                                               body  \\\n",
       "0           0  This is an independent assessment and you shou...   \n",
       "1           1  This is an independent assessment and you shou...   \n",
       "2           2  This is an independent assessment and you shou...   \n",
       "3           3  This is an independent assessment and you shou...   \n",
       "4           4  This is an independent assessment and you shou...   \n",
       "\n",
       "                           date      key anonymous author  \n",
       "0  2022-03-14T03:32:34.252+0000  FE-7397       Bobby Mack  \n",
       "1  2022-03-14T04:36:28.408+0000  FE-7395       Bobby Mack  \n",
       "2  2022-03-14T05:10:51.437+0000  FE-7388       Bobby Mack  \n",
       "3  2022-03-14T05:46:09.578+0000  FE-7387       Bobby Mack  \n",
       "4  2022-03-04T02:33:48.159+0000  FE-7384       Bobby Mack  "
      ]
     },
     "execution_count": 60,
     "metadata": {},
     "output_type": "execute_result"
    }
   ],
   "source": [
    "JIRA_comments.head()"
   ]
  },
  {
   "cell_type": "code",
   "execution_count": 61,
   "id": "9957c2c5",
   "metadata": {},
   "outputs": [],
   "source": [
    "bucket = \"studiapwrkarbarz\"\n",
    "filename = \"JIRA_Issues.csv\"\n",
    "\n",
    "s3 = boto3.resource('s3')\n",
    "obj = s3.Object(bucket, filename)\n",
    "with BytesIO(obj.get()['Body'].read()) as bio:\n",
    "    JIRA_Issues = pd.read_csv(bio)"
   ]
  },
  {
   "cell_type": "code",
   "execution_count": 62,
   "id": "f3091686",
   "metadata": {},
   "outputs": [
    {
     "data": {
      "text/html": [
       "<div>\n",
       "<style scoped>\n",
       "    .dataframe tbody tr th:only-of-type {\n",
       "        vertical-align: middle;\n",
       "    }\n",
       "\n",
       "    .dataframe tbody tr th {\n",
       "        vertical-align: top;\n",
       "    }\n",
       "\n",
       "    .dataframe thead th {\n",
       "        text-align: right;\n",
       "    }\n",
       "</style>\n",
       "<table border=\"1\" class=\"dataframe\">\n",
       "  <thead>\n",
       "    <tr style=\"text-align: right;\">\n",
       "      <th></th>\n",
       "      <th>Unnamed: 0</th>\n",
       "      <th>key</th>\n",
       "      <th>summary</th>\n",
       "      <th>votes</th>\n",
       "      <th>watchCount</th>\n",
       "      <th>created</th>\n",
       "      <th>updated</th>\n",
       "      <th>status</th>\n",
       "      <th>resolution</th>\n",
       "      <th>anonymous assignee</th>\n",
       "      <th>anonymous reporter</th>\n",
       "    </tr>\n",
       "  </thead>\n",
       "  <tbody>\n",
       "    <tr>\n",
       "      <th>0</th>\n",
       "      <td>0</td>\n",
       "      <td>FE-7404</td>\n",
       "      <td>FISHEYE_INST Environment variable is not picke...</td>\n",
       "      <td>0</td>\n",
       "      <td>1</td>\n",
       "      <td>2022-05-19 12:18:39+00:00</td>\n",
       "      <td>2022-05-25 02:20:30+00:00</td>\n",
       "      <td>Short Term Backlog</td>\n",
       "      <td>NaN</td>\n",
       "      <td>Jason Brown</td>\n",
       "      <td>David Moody</td>\n",
       "    </tr>\n",
       "    <tr>\n",
       "      <th>1</th>\n",
       "      <td>1</td>\n",
       "      <td>FE-7397</td>\n",
       "      <td>CVE-2021-43955: /rest-service-fecru/server-v1 ...</td>\n",
       "      <td>0</td>\n",
       "      <td>0</td>\n",
       "      <td>2022-03-07 08:15:48+00:00</td>\n",
       "      <td>2022-03-20 20:28:29+00:00</td>\n",
       "      <td>Published</td>\n",
       "      <td>Fixed</td>\n",
       "      <td>Jason Brown</td>\n",
       "      <td>Brian Maxwell</td>\n",
       "    </tr>\n",
       "    <tr>\n",
       "      <th>2</th>\n",
       "      <td>2</td>\n",
       "      <td>FE-7395</td>\n",
       "      <td>CVE-2021-43956: Javascript Prototype Pollution...</td>\n",
       "      <td>0</td>\n",
       "      <td>0</td>\n",
       "      <td>2022-03-07 08:15:14+00:00</td>\n",
       "      <td>2022-03-20 20:28:34+00:00</td>\n",
       "      <td>Published</td>\n",
       "      <td>Fixed</td>\n",
       "      <td>Jason Brown</td>\n",
       "      <td>Brian Maxwell</td>\n",
       "    </tr>\n",
       "    <tr>\n",
       "      <th>3</th>\n",
       "      <td>3</td>\n",
       "      <td>FE-7388</td>\n",
       "      <td>CVE-2021-43957: Bypass for CVE-2020-29446 (Loc...</td>\n",
       "      <td>0</td>\n",
       "      <td>1</td>\n",
       "      <td>2022-03-07 08:02:11+00:00</td>\n",
       "      <td>2022-03-20 20:28:38+00:00</td>\n",
       "      <td>Published</td>\n",
       "      <td>Fixed</td>\n",
       "      <td>Jason Brown</td>\n",
       "      <td>Brian Maxwell</td>\n",
       "    </tr>\n",
       "    <tr>\n",
       "      <th>4</th>\n",
       "      <td>4</td>\n",
       "      <td>FE-7387</td>\n",
       "      <td>CVE-2021-43958: Various rest resources missing...</td>\n",
       "      <td>0</td>\n",
       "      <td>1</td>\n",
       "      <td>2022-03-07 08:01:11+00:00</td>\n",
       "      <td>2022-03-20 20:28:44+00:00</td>\n",
       "      <td>Published</td>\n",
       "      <td>Fixed</td>\n",
       "      <td>Jason Brown</td>\n",
       "      <td>Brian Maxwell</td>\n",
       "    </tr>\n",
       "  </tbody>\n",
       "</table>\n",
       "</div>"
      ],
      "text/plain": [
       "   Unnamed: 0      key                                            summary  \\\n",
       "0           0  FE-7404  FISHEYE_INST Environment variable is not picke...   \n",
       "1           1  FE-7397  CVE-2021-43955: /rest-service-fecru/server-v1 ...   \n",
       "2           2  FE-7395  CVE-2021-43956: Javascript Prototype Pollution...   \n",
       "3           3  FE-7388  CVE-2021-43957: Bypass for CVE-2020-29446 (Loc...   \n",
       "4           4  FE-7387  CVE-2021-43958: Various rest resources missing...   \n",
       "\n",
       "   votes  watchCount                    created                    updated  \\\n",
       "0      0           1  2022-05-19 12:18:39+00:00  2022-05-25 02:20:30+00:00   \n",
       "1      0           0  2022-03-07 08:15:48+00:00  2022-03-20 20:28:29+00:00   \n",
       "2      0           0  2022-03-07 08:15:14+00:00  2022-03-20 20:28:34+00:00   \n",
       "3      0           1  2022-03-07 08:02:11+00:00  2022-03-20 20:28:38+00:00   \n",
       "4      0           1  2022-03-07 08:01:11+00:00  2022-03-20 20:28:44+00:00   \n",
       "\n",
       "               status resolution anonymous assignee anonymous reporter  \n",
       "0  Short Term Backlog        NaN        Jason Brown        David Moody  \n",
       "1           Published      Fixed        Jason Brown      Brian Maxwell  \n",
       "2           Published      Fixed        Jason Brown      Brian Maxwell  \n",
       "3           Published      Fixed        Jason Brown      Brian Maxwell  \n",
       "4           Published      Fixed        Jason Brown      Brian Maxwell  "
      ]
     },
     "execution_count": 62,
     "metadata": {},
     "output_type": "execute_result"
    }
   ],
   "source": [
    "JIRA_Issues.head()"
   ]
  },
  {
   "cell_type": "markdown",
   "id": "437563a8",
   "metadata": {},
   "source": [
    "# 6. Tworzenie wskaźnika sentymentu"
   ]
  },
  {
   "cell_type": "markdown",
   "id": "ed11e9bc",
   "metadata": {},
   "source": [
    "## 6.1 Import bibliotek"
   ]
  },
  {
   "cell_type": "code",
   "execution_count": 63,
   "id": "4e830262",
   "metadata": {},
   "outputs": [],
   "source": [
    "from vaderSentiment.vaderSentiment import SentimentIntensityAnalyzer"
   ]
  },
  {
   "cell_type": "code",
   "execution_count": 64,
   "id": "85807b5f",
   "metadata": {},
   "outputs": [],
   "source": [
    "sid_obj= SentimentIntensityAnalyzer()"
   ]
  },
  {
   "cell_type": "code",
   "execution_count": 65,
   "id": "ff90044c",
   "metadata": {},
   "outputs": [],
   "source": [
    "import nltk"
   ]
  },
  {
   "cell_type": "code",
   "execution_count": 66,
   "id": "1cb5882f",
   "metadata": {},
   "outputs": [],
   "source": [
    "from nltk.util import ngrams"
   ]
  },
  {
   "cell_type": "markdown",
   "id": "b8e5855f",
   "metadata": {},
   "source": [
    "## 6.2 Wyliczanie wskaźnika sentymentu\n",
    "\n",
    "### 6.2.1 Wyliczenie sentumentu dla komentarzy"
   ]
  },
  {
   "cell_type": "code",
   "execution_count": 67,
   "id": "be642791",
   "metadata": {},
   "outputs": [],
   "source": [
    "JIRA_comments['Sentimental_all_compound'] = JIRA_comments.apply(lambda x: sid_obj.polarity_scores(str(x.body))[\"compound\"] , axis=1)"
   ]
  },
  {
   "cell_type": "code",
   "execution_count": 68,
   "id": "1f7a7f23",
   "metadata": {},
   "outputs": [],
   "source": [
    "JIRA_comments['Sentimental_all_neg'] = JIRA_comments.apply(lambda x: sid_obj.polarity_scores(str(x.body))[\"neg\"], axis=1)"
   ]
  },
  {
   "cell_type": "code",
   "execution_count": 69,
   "id": "083cb56e",
   "metadata": {},
   "outputs": [],
   "source": [
    "JIRA_comments['Sentimental_all_neu'] = JIRA_comments.apply(lambda x: sid_obj.polarity_scores(str(x.body))[\"neu\"], axis=1)"
   ]
  },
  {
   "cell_type": "code",
   "execution_count": 70,
   "id": "87aa97ef",
   "metadata": {},
   "outputs": [],
   "source": [
    "JIRA_comments['Sentimental_all_pos'] = JIRA_comments.apply(lambda x: sid_obj.polarity_scores(str(x.body))[\"pos\"], axis=1)"
   ]
  },
  {
   "cell_type": "markdown",
   "id": "eb3f9d49",
   "metadata": {},
   "source": [
    "### 6.2.2 Wyliczenie sentumentu dla bigramów"
   ]
  },
  {
   "cell_type": "code",
   "execution_count": 71,
   "id": "2856b308",
   "metadata": {},
   "outputs": [],
   "source": [
    "JIRA_comments['Sentimental_bi_g_compound'] = JIRA_comments.apply(lambda x: sid_obj.polarity_scores(str([' '.join(e) for e in ngrams(x.body.split(\" \"), 2)]))[\"compound\"], axis=1)"
   ]
  },
  {
   "cell_type": "code",
   "execution_count": 72,
   "id": "2a6986cc",
   "metadata": {},
   "outputs": [],
   "source": [
    "JIRA_comments['Sentimental_bi_g_neg'] = JIRA_comments.apply(lambda x: sid_obj.polarity_scores(str([' '.join(e) for e in ngrams(x.body.split(\" \"), 2)]))[\"neg\"], axis=1)"
   ]
  },
  {
   "cell_type": "code",
   "execution_count": 73,
   "id": "476a866c",
   "metadata": {},
   "outputs": [],
   "source": [
    "JIRA_comments['Sentimental_bi_g_neu'] = JIRA_comments.apply(lambda x: sid_obj.polarity_scores(str([' '.join(e) for e in ngrams(x.body.split(\" \"), 2)]))[\"neu\"], axis=1)"
   ]
  },
  {
   "cell_type": "code",
   "execution_count": 74,
   "id": "65ffcd68",
   "metadata": {},
   "outputs": [],
   "source": [
    "JIRA_comments['Sentimental_bi_g_pos'] = JIRA_comments.apply(lambda x: sid_obj.polarity_scores(str([' '.join(e) for e in ngrams(x.body.split(\" \"), 2)]))[\"pos\"], axis=1)"
   ]
  },
  {
   "cell_type": "markdown",
   "id": "63a3574f",
   "metadata": {},
   "source": [
    "### 6.2.3 Wyliczenie sentumentu dla trigramów"
   ]
  },
  {
   "cell_type": "code",
   "execution_count": 75,
   "id": "98fb3d7f",
   "metadata": {},
   "outputs": [],
   "source": [
    "JIRA_comments['Sentimental_tri_g_compound'] = JIRA_comments.apply(lambda x: sid_obj.polarity_scores(str([' '.join(e) for e in ngrams([' '.join(e) for e in ngrams(x.body.split(\" \"), 2)], 2)]))[\"compound\"], axis=1)"
   ]
  },
  {
   "cell_type": "code",
   "execution_count": 76,
   "id": "a8b45c3a",
   "metadata": {},
   "outputs": [],
   "source": [
    "JIRA_comments['Sentimental_tri_g_neg'] = JIRA_comments.apply(lambda x: sid_obj.polarity_scores(str([' '.join(e) for e in ngrams([' '.join(e) for e in ngrams(x.body.split(\" \"), 2)], 2)]))[\"neg\"], axis=1)"
   ]
  },
  {
   "cell_type": "code",
   "execution_count": 77,
   "id": "1f1ef109",
   "metadata": {},
   "outputs": [],
   "source": [
    "JIRA_comments['Sentimental_tri_g_neu'] = JIRA_comments.apply(lambda x: sid_obj.polarity_scores(str([' '.join(e) for e in ngrams([' '.join(e) for e in ngrams(x.body.split(\" \"), 2)], 2)]))[\"neu\"], axis=1)"
   ]
  },
  {
   "cell_type": "code",
   "execution_count": 78,
   "id": "96a811f0",
   "metadata": {},
   "outputs": [],
   "source": [
    "JIRA_comments['Sentimental_tri_g_pos'] = JIRA_comments.apply(lambda x: sid_obj.polarity_scores(str([' '.join(e) for e in ngrams([' '.join(e) for e in ngrams(x.body.split(\" \"), 2)], 2)]))[\"pos\"], axis=1)"
   ]
  },
  {
   "cell_type": "markdown",
   "id": "72b4f64f",
   "metadata": {},
   "source": [
    "Wyświetlanie danych"
   ]
  },
  {
   "cell_type": "code",
   "execution_count": 79,
   "id": "19b08118",
   "metadata": {},
   "outputs": [
    {
     "data": {
      "text/html": [
       "<div>\n",
       "<style scoped>\n",
       "    .dataframe tbody tr th:only-of-type {\n",
       "        vertical-align: middle;\n",
       "    }\n",
       "\n",
       "    .dataframe tbody tr th {\n",
       "        vertical-align: top;\n",
       "    }\n",
       "\n",
       "    .dataframe thead th {\n",
       "        text-align: right;\n",
       "    }\n",
       "</style>\n",
       "<table border=\"1\" class=\"dataframe\">\n",
       "  <thead>\n",
       "    <tr style=\"text-align: right;\">\n",
       "      <th></th>\n",
       "      <th>Unnamed: 0</th>\n",
       "      <th>body</th>\n",
       "      <th>date</th>\n",
       "      <th>key</th>\n",
       "      <th>anonymous author</th>\n",
       "      <th>Sentimental_all_compound</th>\n",
       "      <th>Sentimental_all_neg</th>\n",
       "      <th>Sentimental_all_neu</th>\n",
       "      <th>Sentimental_all_pos</th>\n",
       "      <th>Sentimental_bi_g_compound</th>\n",
       "      <th>Sentimental_bi_g_neg</th>\n",
       "      <th>Sentimental_bi_g_neu</th>\n",
       "      <th>Sentimental_bi_g_pos</th>\n",
       "      <th>Sentimental_tri_g_compound</th>\n",
       "      <th>Sentimental_tri_g_neg</th>\n",
       "      <th>Sentimental_tri_g_neu</th>\n",
       "      <th>Sentimental_tri_g_pos</th>\n",
       "    </tr>\n",
       "  </thead>\n",
       "  <tbody>\n",
       "    <tr>\n",
       "      <th>0</th>\n",
       "      <td>0</td>\n",
       "      <td>This is an independent assessment and you shou...</td>\n",
       "      <td>2022-03-14T03:32:34.252+0000</td>\n",
       "      <td>FE-7397</td>\n",
       "      <td>Bobby Mack</td>\n",
       "      <td>-0.6369</td>\n",
       "      <td>0.124</td>\n",
       "      <td>0.813</td>\n",
       "      <td>0.062</td>\n",
       "      <td>-0.8555</td>\n",
       "      <td>0.149</td>\n",
       "      <td>0.776</td>\n",
       "      <td>0.075</td>\n",
       "      <td>-0.9571</td>\n",
       "      <td>0.152</td>\n",
       "      <td>0.773</td>\n",
       "      <td>0.076</td>\n",
       "    </tr>\n",
       "    <tr>\n",
       "      <th>1</th>\n",
       "      <td>1</td>\n",
       "      <td>This is an independent assessment and you shou...</td>\n",
       "      <td>2022-03-14T04:36:28.408+0000</td>\n",
       "      <td>FE-7395</td>\n",
       "      <td>Bobby Mack</td>\n",
       "      <td>-0.7430</td>\n",
       "      <td>0.148</td>\n",
       "      <td>0.791</td>\n",
       "      <td>0.061</td>\n",
       "      <td>-0.9118</td>\n",
       "      <td>0.177</td>\n",
       "      <td>0.750</td>\n",
       "      <td>0.074</td>\n",
       "      <td>-0.9756</td>\n",
       "      <td>0.179</td>\n",
       "      <td>0.746</td>\n",
       "      <td>0.075</td>\n",
       "    </tr>\n",
       "    <tr>\n",
       "      <th>2</th>\n",
       "      <td>2</td>\n",
       "      <td>This is an independent assessment and you shou...</td>\n",
       "      <td>2022-03-14T05:10:51.437+0000</td>\n",
       "      <td>FE-7388</td>\n",
       "      <td>Bobby Mack</td>\n",
       "      <td>-0.6369</td>\n",
       "      <td>0.124</td>\n",
       "      <td>0.813</td>\n",
       "      <td>0.062</td>\n",
       "      <td>-0.8555</td>\n",
       "      <td>0.149</td>\n",
       "      <td>0.776</td>\n",
       "      <td>0.075</td>\n",
       "      <td>-0.9571</td>\n",
       "      <td>0.152</td>\n",
       "      <td>0.773</td>\n",
       "      <td>0.076</td>\n",
       "    </tr>\n",
       "    <tr>\n",
       "      <th>3</th>\n",
       "      <td>3</td>\n",
       "      <td>This is an independent assessment and you shou...</td>\n",
       "      <td>2022-03-14T05:46:09.578+0000</td>\n",
       "      <td>FE-7387</td>\n",
       "      <td>Bobby Mack</td>\n",
       "      <td>-0.2500</td>\n",
       "      <td>0.076</td>\n",
       "      <td>0.860</td>\n",
       "      <td>0.064</td>\n",
       "      <td>-0.4588</td>\n",
       "      <td>0.092</td>\n",
       "      <td>0.831</td>\n",
       "      <td>0.077</td>\n",
       "      <td>-0.7184</td>\n",
       "      <td>0.093</td>\n",
       "      <td>0.828</td>\n",
       "      <td>0.078</td>\n",
       "    </tr>\n",
       "    <tr>\n",
       "      <th>4</th>\n",
       "      <td>4</td>\n",
       "      <td>This is an independent assessment and you shou...</td>\n",
       "      <td>2022-03-04T02:33:48.159+0000</td>\n",
       "      <td>FE-7384</td>\n",
       "      <td>Bobby Mack</td>\n",
       "      <td>-0.7430</td>\n",
       "      <td>0.148</td>\n",
       "      <td>0.791</td>\n",
       "      <td>0.061</td>\n",
       "      <td>-0.9118</td>\n",
       "      <td>0.177</td>\n",
       "      <td>0.750</td>\n",
       "      <td>0.074</td>\n",
       "      <td>-0.9756</td>\n",
       "      <td>0.179</td>\n",
       "      <td>0.746</td>\n",
       "      <td>0.075</td>\n",
       "    </tr>\n",
       "  </tbody>\n",
       "</table>\n",
       "</div>"
      ],
      "text/plain": [
       "   Unnamed: 0                                               body  \\\n",
       "0           0  This is an independent assessment and you shou...   \n",
       "1           1  This is an independent assessment and you shou...   \n",
       "2           2  This is an independent assessment and you shou...   \n",
       "3           3  This is an independent assessment and you shou...   \n",
       "4           4  This is an independent assessment and you shou...   \n",
       "\n",
       "                           date      key anonymous author  \\\n",
       "0  2022-03-14T03:32:34.252+0000  FE-7397       Bobby Mack   \n",
       "1  2022-03-14T04:36:28.408+0000  FE-7395       Bobby Mack   \n",
       "2  2022-03-14T05:10:51.437+0000  FE-7388       Bobby Mack   \n",
       "3  2022-03-14T05:46:09.578+0000  FE-7387       Bobby Mack   \n",
       "4  2022-03-04T02:33:48.159+0000  FE-7384       Bobby Mack   \n",
       "\n",
       "   Sentimental_all_compound  Sentimental_all_neg  Sentimental_all_neu  \\\n",
       "0                   -0.6369                0.124                0.813   \n",
       "1                   -0.7430                0.148                0.791   \n",
       "2                   -0.6369                0.124                0.813   \n",
       "3                   -0.2500                0.076                0.860   \n",
       "4                   -0.7430                0.148                0.791   \n",
       "\n",
       "   Sentimental_all_pos  Sentimental_bi_g_compound  Sentimental_bi_g_neg  \\\n",
       "0                0.062                    -0.8555                 0.149   \n",
       "1                0.061                    -0.9118                 0.177   \n",
       "2                0.062                    -0.8555                 0.149   \n",
       "3                0.064                    -0.4588                 0.092   \n",
       "4                0.061                    -0.9118                 0.177   \n",
       "\n",
       "   Sentimental_bi_g_neu  Sentimental_bi_g_pos  Sentimental_tri_g_compound  \\\n",
       "0                 0.776                 0.075                     -0.9571   \n",
       "1                 0.750                 0.074                     -0.9756   \n",
       "2                 0.776                 0.075                     -0.9571   \n",
       "3                 0.831                 0.077                     -0.7184   \n",
       "4                 0.750                 0.074                     -0.9756   \n",
       "\n",
       "   Sentimental_tri_g_neg  Sentimental_tri_g_neu  Sentimental_tri_g_pos  \n",
       "0                  0.152                  0.773                  0.076  \n",
       "1                  0.179                  0.746                  0.075  \n",
       "2                  0.152                  0.773                  0.076  \n",
       "3                  0.093                  0.828                  0.078  \n",
       "4                  0.179                  0.746                  0.075  "
      ]
     },
     "execution_count": 79,
     "metadata": {},
     "output_type": "execute_result"
    }
   ],
   "source": [
    "JIRA_comments.head()"
   ]
  },
  {
   "cell_type": "markdown",
   "id": "4b2c550b",
   "metadata": {},
   "source": [
    "Histogram watości sentymentu"
   ]
  },
  {
   "cell_type": "markdown",
   "id": "c3ffb3da",
   "metadata": {},
   "source": [
    "## 6.3 Kategoryzacja wskaznika sentymentu"
   ]
  },
  {
   "cell_type": "markdown",
   "id": "5a105584",
   "metadata": {},
   "source": [
    "Dla wartości wyniku sentumentu: <p>\n",
    "    Sentimental score <= -0.05  <b> Komentarz negatywny </b><p>\n",
    "    Sentimental score > -0.05 i < 0.05 <b> Komentarz neutralny </b><p>\n",
    "    Sentimental score >= 0.05 <b> Komentarz pozytywny </b><p>\n",
    "    "
   ]
  },
  {
   "cell_type": "code",
   "execution_count": 80,
   "id": "c2be9d45",
   "metadata": {},
   "outputs": [],
   "source": [
    "conditions = [\n",
    "    (JIRA_comments['Sentimental_all_compound'] >= 0.05), \n",
    "    (JIRA_comments['Sentimental_all_compound'] > -0.05) & (JIRA_comments['Sentimental_all_compound'] < 0.05 ),\n",
    "    (JIRA_comments['Sentimental_all_compound'] <= -0.05)   \n",
    "]"
   ]
  },
  {
   "cell_type": "code",
   "execution_count": 81,
   "id": "fc339910",
   "metadata": {},
   "outputs": [],
   "source": [
    "values= ['positive','neutral','negative']"
   ]
  },
  {
   "cell_type": "code",
   "execution_count": 82,
   "id": "c51ce5b9",
   "metadata": {},
   "outputs": [],
   "source": [
    "JIRA_comments['Sentimental value']=np.select(conditions,values)"
   ]
  },
  {
   "cell_type": "markdown",
   "id": "15951b88",
   "metadata": {},
   "source": [
    "Wyświetlenie danych"
   ]
  },
  {
   "cell_type": "code",
   "execution_count": 83,
   "id": "4b4f6766",
   "metadata": {},
   "outputs": [
    {
     "data": {
      "text/html": [
       "<div>\n",
       "<style scoped>\n",
       "    .dataframe tbody tr th:only-of-type {\n",
       "        vertical-align: middle;\n",
       "    }\n",
       "\n",
       "    .dataframe tbody tr th {\n",
       "        vertical-align: top;\n",
       "    }\n",
       "\n",
       "    .dataframe thead th {\n",
       "        text-align: right;\n",
       "    }\n",
       "</style>\n",
       "<table border=\"1\" class=\"dataframe\">\n",
       "  <thead>\n",
       "    <tr style=\"text-align: right;\">\n",
       "      <th></th>\n",
       "      <th>Unnamed: 0</th>\n",
       "      <th>body</th>\n",
       "      <th>date</th>\n",
       "      <th>key</th>\n",
       "      <th>anonymous author</th>\n",
       "      <th>Sentimental_all_compound</th>\n",
       "      <th>Sentimental_all_neg</th>\n",
       "      <th>Sentimental_all_neu</th>\n",
       "      <th>Sentimental_all_pos</th>\n",
       "      <th>Sentimental_bi_g_compound</th>\n",
       "      <th>Sentimental_bi_g_neg</th>\n",
       "      <th>Sentimental_bi_g_neu</th>\n",
       "      <th>Sentimental_bi_g_pos</th>\n",
       "      <th>Sentimental_tri_g_compound</th>\n",
       "      <th>Sentimental_tri_g_neg</th>\n",
       "      <th>Sentimental_tri_g_neu</th>\n",
       "      <th>Sentimental_tri_g_pos</th>\n",
       "      <th>Sentimental value</th>\n",
       "    </tr>\n",
       "  </thead>\n",
       "  <tbody>\n",
       "    <tr>\n",
       "      <th>0</th>\n",
       "      <td>0</td>\n",
       "      <td>This is an independent assessment and you shou...</td>\n",
       "      <td>2022-03-14T03:32:34.252+0000</td>\n",
       "      <td>FE-7397</td>\n",
       "      <td>Bobby Mack</td>\n",
       "      <td>-0.6369</td>\n",
       "      <td>0.124</td>\n",
       "      <td>0.813</td>\n",
       "      <td>0.062</td>\n",
       "      <td>-0.8555</td>\n",
       "      <td>0.149</td>\n",
       "      <td>0.776</td>\n",
       "      <td>0.075</td>\n",
       "      <td>-0.9571</td>\n",
       "      <td>0.152</td>\n",
       "      <td>0.773</td>\n",
       "      <td>0.076</td>\n",
       "      <td>negative</td>\n",
       "    </tr>\n",
       "    <tr>\n",
       "      <th>1</th>\n",
       "      <td>1</td>\n",
       "      <td>This is an independent assessment and you shou...</td>\n",
       "      <td>2022-03-14T04:36:28.408+0000</td>\n",
       "      <td>FE-7395</td>\n",
       "      <td>Bobby Mack</td>\n",
       "      <td>-0.7430</td>\n",
       "      <td>0.148</td>\n",
       "      <td>0.791</td>\n",
       "      <td>0.061</td>\n",
       "      <td>-0.9118</td>\n",
       "      <td>0.177</td>\n",
       "      <td>0.750</td>\n",
       "      <td>0.074</td>\n",
       "      <td>-0.9756</td>\n",
       "      <td>0.179</td>\n",
       "      <td>0.746</td>\n",
       "      <td>0.075</td>\n",
       "      <td>negative</td>\n",
       "    </tr>\n",
       "    <tr>\n",
       "      <th>2</th>\n",
       "      <td>2</td>\n",
       "      <td>This is an independent assessment and you shou...</td>\n",
       "      <td>2022-03-14T05:10:51.437+0000</td>\n",
       "      <td>FE-7388</td>\n",
       "      <td>Bobby Mack</td>\n",
       "      <td>-0.6369</td>\n",
       "      <td>0.124</td>\n",
       "      <td>0.813</td>\n",
       "      <td>0.062</td>\n",
       "      <td>-0.8555</td>\n",
       "      <td>0.149</td>\n",
       "      <td>0.776</td>\n",
       "      <td>0.075</td>\n",
       "      <td>-0.9571</td>\n",
       "      <td>0.152</td>\n",
       "      <td>0.773</td>\n",
       "      <td>0.076</td>\n",
       "      <td>negative</td>\n",
       "    </tr>\n",
       "    <tr>\n",
       "      <th>3</th>\n",
       "      <td>3</td>\n",
       "      <td>This is an independent assessment and you shou...</td>\n",
       "      <td>2022-03-14T05:46:09.578+0000</td>\n",
       "      <td>FE-7387</td>\n",
       "      <td>Bobby Mack</td>\n",
       "      <td>-0.2500</td>\n",
       "      <td>0.076</td>\n",
       "      <td>0.860</td>\n",
       "      <td>0.064</td>\n",
       "      <td>-0.4588</td>\n",
       "      <td>0.092</td>\n",
       "      <td>0.831</td>\n",
       "      <td>0.077</td>\n",
       "      <td>-0.7184</td>\n",
       "      <td>0.093</td>\n",
       "      <td>0.828</td>\n",
       "      <td>0.078</td>\n",
       "      <td>negative</td>\n",
       "    </tr>\n",
       "    <tr>\n",
       "      <th>4</th>\n",
       "      <td>4</td>\n",
       "      <td>This is an independent assessment and you shou...</td>\n",
       "      <td>2022-03-04T02:33:48.159+0000</td>\n",
       "      <td>FE-7384</td>\n",
       "      <td>Bobby Mack</td>\n",
       "      <td>-0.7430</td>\n",
       "      <td>0.148</td>\n",
       "      <td>0.791</td>\n",
       "      <td>0.061</td>\n",
       "      <td>-0.9118</td>\n",
       "      <td>0.177</td>\n",
       "      <td>0.750</td>\n",
       "      <td>0.074</td>\n",
       "      <td>-0.9756</td>\n",
       "      <td>0.179</td>\n",
       "      <td>0.746</td>\n",
       "      <td>0.075</td>\n",
       "      <td>negative</td>\n",
       "    </tr>\n",
       "  </tbody>\n",
       "</table>\n",
       "</div>"
      ],
      "text/plain": [
       "   Unnamed: 0                                               body  \\\n",
       "0           0  This is an independent assessment and you shou...   \n",
       "1           1  This is an independent assessment and you shou...   \n",
       "2           2  This is an independent assessment and you shou...   \n",
       "3           3  This is an independent assessment and you shou...   \n",
       "4           4  This is an independent assessment and you shou...   \n",
       "\n",
       "                           date      key anonymous author  \\\n",
       "0  2022-03-14T03:32:34.252+0000  FE-7397       Bobby Mack   \n",
       "1  2022-03-14T04:36:28.408+0000  FE-7395       Bobby Mack   \n",
       "2  2022-03-14T05:10:51.437+0000  FE-7388       Bobby Mack   \n",
       "3  2022-03-14T05:46:09.578+0000  FE-7387       Bobby Mack   \n",
       "4  2022-03-04T02:33:48.159+0000  FE-7384       Bobby Mack   \n",
       "\n",
       "   Sentimental_all_compound  Sentimental_all_neg  Sentimental_all_neu  \\\n",
       "0                   -0.6369                0.124                0.813   \n",
       "1                   -0.7430                0.148                0.791   \n",
       "2                   -0.6369                0.124                0.813   \n",
       "3                   -0.2500                0.076                0.860   \n",
       "4                   -0.7430                0.148                0.791   \n",
       "\n",
       "   Sentimental_all_pos  Sentimental_bi_g_compound  Sentimental_bi_g_neg  \\\n",
       "0                0.062                    -0.8555                 0.149   \n",
       "1                0.061                    -0.9118                 0.177   \n",
       "2                0.062                    -0.8555                 0.149   \n",
       "3                0.064                    -0.4588                 0.092   \n",
       "4                0.061                    -0.9118                 0.177   \n",
       "\n",
       "   Sentimental_bi_g_neu  Sentimental_bi_g_pos  Sentimental_tri_g_compound  \\\n",
       "0                 0.776                 0.075                     -0.9571   \n",
       "1                 0.750                 0.074                     -0.9756   \n",
       "2                 0.776                 0.075                     -0.9571   \n",
       "3                 0.831                 0.077                     -0.7184   \n",
       "4                 0.750                 0.074                     -0.9756   \n",
       "\n",
       "   Sentimental_tri_g_neg  Sentimental_tri_g_neu  Sentimental_tri_g_pos  \\\n",
       "0                  0.152                  0.773                  0.076   \n",
       "1                  0.179                  0.746                  0.075   \n",
       "2                  0.152                  0.773                  0.076   \n",
       "3                  0.093                  0.828                  0.078   \n",
       "4                  0.179                  0.746                  0.075   \n",
       "\n",
       "  Sentimental value  \n",
       "0          negative  \n",
       "1          negative  \n",
       "2          negative  \n",
       "3          negative  \n",
       "4          negative  "
      ]
     },
     "execution_count": 83,
     "metadata": {},
     "output_type": "execute_result"
    }
   ],
   "source": [
    "JIRA_comments.head()"
   ]
  },
  {
   "cell_type": "markdown",
   "id": "a32e3972",
   "metadata": {},
   "source": [
    "# 7. Aggregacja danych"
   ]
  },
  {
   "cell_type": "markdown",
   "id": "ccc7bad5",
   "metadata": {},
   "source": [
    "## 7.1 Aggregacja komentarzy"
   ]
  },
  {
   "cell_type": "code",
   "execution_count": 84,
   "id": "7ea14eb4",
   "metadata": {},
   "outputs": [
    {
     "data": {
      "text/html": [
       "<div>\n",
       "<style scoped>\n",
       "    .dataframe tbody tr th:only-of-type {\n",
       "        vertical-align: middle;\n",
       "    }\n",
       "\n",
       "    .dataframe tbody tr th {\n",
       "        vertical-align: top;\n",
       "    }\n",
       "\n",
       "    .dataframe thead th {\n",
       "        text-align: right;\n",
       "    }\n",
       "</style>\n",
       "<table border=\"1\" class=\"dataframe\">\n",
       "  <thead>\n",
       "    <tr style=\"text-align: right;\">\n",
       "      <th></th>\n",
       "      <th>Unnamed: 0</th>\n",
       "      <th>body</th>\n",
       "      <th>date</th>\n",
       "      <th>key</th>\n",
       "      <th>anonymous author</th>\n",
       "      <th>Sentimental_all_compound</th>\n",
       "      <th>Sentimental_all_neg</th>\n",
       "      <th>Sentimental_all_neu</th>\n",
       "      <th>Sentimental_all_pos</th>\n",
       "      <th>Sentimental_bi_g_compound</th>\n",
       "      <th>Sentimental_bi_g_neg</th>\n",
       "      <th>Sentimental_bi_g_neu</th>\n",
       "      <th>Sentimental_bi_g_pos</th>\n",
       "      <th>Sentimental_tri_g_compound</th>\n",
       "      <th>Sentimental_tri_g_neg</th>\n",
       "      <th>Sentimental_tri_g_neu</th>\n",
       "      <th>Sentimental_tri_g_pos</th>\n",
       "      <th>Sentimental value</th>\n",
       "    </tr>\n",
       "  </thead>\n",
       "  <tbody>\n",
       "    <tr>\n",
       "      <th>0</th>\n",
       "      <td>0</td>\n",
       "      <td>This is an independent assessment and you shou...</td>\n",
       "      <td>2022-03-14T03:32:34.252+0000</td>\n",
       "      <td>FE-7397</td>\n",
       "      <td>Bobby Mack</td>\n",
       "      <td>-0.6369</td>\n",
       "      <td>0.124</td>\n",
       "      <td>0.813</td>\n",
       "      <td>0.062</td>\n",
       "      <td>-0.8555</td>\n",
       "      <td>0.149</td>\n",
       "      <td>0.776</td>\n",
       "      <td>0.075</td>\n",
       "      <td>-0.9571</td>\n",
       "      <td>0.152</td>\n",
       "      <td>0.773</td>\n",
       "      <td>0.076</td>\n",
       "      <td>negative</td>\n",
       "    </tr>\n",
       "    <tr>\n",
       "      <th>1</th>\n",
       "      <td>1</td>\n",
       "      <td>This is an independent assessment and you shou...</td>\n",
       "      <td>2022-03-14T04:36:28.408+0000</td>\n",
       "      <td>FE-7395</td>\n",
       "      <td>Bobby Mack</td>\n",
       "      <td>-0.7430</td>\n",
       "      <td>0.148</td>\n",
       "      <td>0.791</td>\n",
       "      <td>0.061</td>\n",
       "      <td>-0.9118</td>\n",
       "      <td>0.177</td>\n",
       "      <td>0.750</td>\n",
       "      <td>0.074</td>\n",
       "      <td>-0.9756</td>\n",
       "      <td>0.179</td>\n",
       "      <td>0.746</td>\n",
       "      <td>0.075</td>\n",
       "      <td>negative</td>\n",
       "    </tr>\n",
       "    <tr>\n",
       "      <th>2</th>\n",
       "      <td>2</td>\n",
       "      <td>This is an independent assessment and you shou...</td>\n",
       "      <td>2022-03-14T05:10:51.437+0000</td>\n",
       "      <td>FE-7388</td>\n",
       "      <td>Bobby Mack</td>\n",
       "      <td>-0.6369</td>\n",
       "      <td>0.124</td>\n",
       "      <td>0.813</td>\n",
       "      <td>0.062</td>\n",
       "      <td>-0.8555</td>\n",
       "      <td>0.149</td>\n",
       "      <td>0.776</td>\n",
       "      <td>0.075</td>\n",
       "      <td>-0.9571</td>\n",
       "      <td>0.152</td>\n",
       "      <td>0.773</td>\n",
       "      <td>0.076</td>\n",
       "      <td>negative</td>\n",
       "    </tr>\n",
       "    <tr>\n",
       "      <th>3</th>\n",
       "      <td>3</td>\n",
       "      <td>This is an independent assessment and you shou...</td>\n",
       "      <td>2022-03-14T05:46:09.578+0000</td>\n",
       "      <td>FE-7387</td>\n",
       "      <td>Bobby Mack</td>\n",
       "      <td>-0.2500</td>\n",
       "      <td>0.076</td>\n",
       "      <td>0.860</td>\n",
       "      <td>0.064</td>\n",
       "      <td>-0.4588</td>\n",
       "      <td>0.092</td>\n",
       "      <td>0.831</td>\n",
       "      <td>0.077</td>\n",
       "      <td>-0.7184</td>\n",
       "      <td>0.093</td>\n",
       "      <td>0.828</td>\n",
       "      <td>0.078</td>\n",
       "      <td>negative</td>\n",
       "    </tr>\n",
       "    <tr>\n",
       "      <th>4</th>\n",
       "      <td>4</td>\n",
       "      <td>This is an independent assessment and you shou...</td>\n",
       "      <td>2022-03-04T02:33:48.159+0000</td>\n",
       "      <td>FE-7384</td>\n",
       "      <td>Bobby Mack</td>\n",
       "      <td>-0.7430</td>\n",
       "      <td>0.148</td>\n",
       "      <td>0.791</td>\n",
       "      <td>0.061</td>\n",
       "      <td>-0.9118</td>\n",
       "      <td>0.177</td>\n",
       "      <td>0.750</td>\n",
       "      <td>0.074</td>\n",
       "      <td>-0.9756</td>\n",
       "      <td>0.179</td>\n",
       "      <td>0.746</td>\n",
       "      <td>0.075</td>\n",
       "      <td>negative</td>\n",
       "    </tr>\n",
       "  </tbody>\n",
       "</table>\n",
       "</div>"
      ],
      "text/plain": [
       "   Unnamed: 0                                               body  \\\n",
       "0           0  This is an independent assessment and you shou...   \n",
       "1           1  This is an independent assessment and you shou...   \n",
       "2           2  This is an independent assessment and you shou...   \n",
       "3           3  This is an independent assessment and you shou...   \n",
       "4           4  This is an independent assessment and you shou...   \n",
       "\n",
       "                           date      key anonymous author  \\\n",
       "0  2022-03-14T03:32:34.252+0000  FE-7397       Bobby Mack   \n",
       "1  2022-03-14T04:36:28.408+0000  FE-7395       Bobby Mack   \n",
       "2  2022-03-14T05:10:51.437+0000  FE-7388       Bobby Mack   \n",
       "3  2022-03-14T05:46:09.578+0000  FE-7387       Bobby Mack   \n",
       "4  2022-03-04T02:33:48.159+0000  FE-7384       Bobby Mack   \n",
       "\n",
       "   Sentimental_all_compound  Sentimental_all_neg  Sentimental_all_neu  \\\n",
       "0                   -0.6369                0.124                0.813   \n",
       "1                   -0.7430                0.148                0.791   \n",
       "2                   -0.6369                0.124                0.813   \n",
       "3                   -0.2500                0.076                0.860   \n",
       "4                   -0.7430                0.148                0.791   \n",
       "\n",
       "   Sentimental_all_pos  Sentimental_bi_g_compound  Sentimental_bi_g_neg  \\\n",
       "0                0.062                    -0.8555                 0.149   \n",
       "1                0.061                    -0.9118                 0.177   \n",
       "2                0.062                    -0.8555                 0.149   \n",
       "3                0.064                    -0.4588                 0.092   \n",
       "4                0.061                    -0.9118                 0.177   \n",
       "\n",
       "   Sentimental_bi_g_neu  Sentimental_bi_g_pos  Sentimental_tri_g_compound  \\\n",
       "0                 0.776                 0.075                     -0.9571   \n",
       "1                 0.750                 0.074                     -0.9756   \n",
       "2                 0.776                 0.075                     -0.9571   \n",
       "3                 0.831                 0.077                     -0.7184   \n",
       "4                 0.750                 0.074                     -0.9756   \n",
       "\n",
       "   Sentimental_tri_g_neg  Sentimental_tri_g_neu  Sentimental_tri_g_pos  \\\n",
       "0                  0.152                  0.773                  0.076   \n",
       "1                  0.179                  0.746                  0.075   \n",
       "2                  0.152                  0.773                  0.076   \n",
       "3                  0.093                  0.828                  0.078   \n",
       "4                  0.179                  0.746                  0.075   \n",
       "\n",
       "  Sentimental value  \n",
       "0          negative  \n",
       "1          negative  \n",
       "2          negative  \n",
       "3          negative  \n",
       "4          negative  "
      ]
     },
     "execution_count": 84,
     "metadata": {},
     "output_type": "execute_result"
    }
   ],
   "source": [
    "JIRA_comments.head()"
   ]
  },
  {
   "cell_type": "markdown",
   "id": "77087f9b",
   "metadata": {},
   "source": [
    "Sumujemy wyniki sentymentu dla wszystkich komentarzy i grupujemy po kluczu zgłoszenia"
   ]
  },
  {
   "cell_type": "code",
   "execution_count": 85,
   "id": "b292b9de",
   "metadata": {},
   "outputs": [],
   "source": [
    "JIRA_comments_agg=JIRA_comments.groupby(by=\"key\").agg(\n",
    "    # Całość komentarza\n",
    "    Sentimental_all_sum_compound=('Sentimental_all_compound','sum'),  \n",
    "    Sentimental_all_sum_neg=('Sentimental_all_neg','sum'),\n",
    "    Sentimental_all_sum_pos=('Sentimental_all_pos','sum'),\n",
    "    Sentimental_all_sum_neu=('Sentimental_all_neu','sum'),\n",
    "    \n",
    "    # bigramy komentarza\n",
    "    Sentimental_bi_g_sum_compound=('Sentimental_bi_g_compound','sum'),  \n",
    "    Sentimental_bi_g_sum_neg=('Sentimental_bi_g_neg','sum'),\n",
    "    Sentimental_bi_g_sum_pos=('Sentimental_bi_g_pos','sum'),\n",
    "    Sentimental_bi_g_sum_neu=('Sentimental_bi_g_neu','sum'),                                                     \n",
    "                                                     \n",
    "    # trigramy komentarza\n",
    "    Sentimental_tri_g_sum_compound=('Sentimental_tri_g_compound','sum'),  \n",
    "    Sentimental_tri_g_sum_neg=('Sentimental_tri_g_neg','sum'),\n",
    "    Sentimental_tri_g_sum_pos=('Sentimental_tri_g_pos','sum'),\n",
    "    Sentimental_tri_g_sum_neu=('Sentimental_tri_g_neu','sum')\n",
    ")\n"
   ]
  },
  {
   "cell_type": "markdown",
   "id": "fdf7033a",
   "metadata": {},
   "source": [
    "Wyświetlanie danych"
   ]
  },
  {
   "cell_type": "code",
   "execution_count": 86,
   "id": "2a36a91c",
   "metadata": {},
   "outputs": [
    {
     "data": {
      "text/html": [
       "<div>\n",
       "<style scoped>\n",
       "    .dataframe tbody tr th:only-of-type {\n",
       "        vertical-align: middle;\n",
       "    }\n",
       "\n",
       "    .dataframe tbody tr th {\n",
       "        vertical-align: top;\n",
       "    }\n",
       "\n",
       "    .dataframe thead th {\n",
       "        text-align: right;\n",
       "    }\n",
       "</style>\n",
       "<table border=\"1\" class=\"dataframe\">\n",
       "  <thead>\n",
       "    <tr style=\"text-align: right;\">\n",
       "      <th></th>\n",
       "      <th>Sentimental_all_sum_compound</th>\n",
       "      <th>Sentimental_all_sum_neg</th>\n",
       "      <th>Sentimental_all_sum_pos</th>\n",
       "      <th>Sentimental_all_sum_neu</th>\n",
       "      <th>Sentimental_bi_g_sum_compound</th>\n",
       "      <th>Sentimental_bi_g_sum_neg</th>\n",
       "      <th>Sentimental_bi_g_sum_pos</th>\n",
       "      <th>Sentimental_bi_g_sum_neu</th>\n",
       "      <th>Sentimental_tri_g_sum_compound</th>\n",
       "      <th>Sentimental_tri_g_sum_neg</th>\n",
       "      <th>Sentimental_tri_g_sum_pos</th>\n",
       "      <th>Sentimental_tri_g_sum_neu</th>\n",
       "    </tr>\n",
       "    <tr>\n",
       "      <th>key</th>\n",
       "      <th></th>\n",
       "      <th></th>\n",
       "      <th></th>\n",
       "      <th></th>\n",
       "      <th></th>\n",
       "      <th></th>\n",
       "      <th></th>\n",
       "      <th></th>\n",
       "      <th></th>\n",
       "      <th></th>\n",
       "      <th></th>\n",
       "      <th></th>\n",
       "    </tr>\n",
       "  </thead>\n",
       "  <tbody>\n",
       "    <tr>\n",
       "      <th>FE-1044</th>\n",
       "      <td>1.6597</td>\n",
       "      <td>0.097</td>\n",
       "      <td>0.396</td>\n",
       "      <td>2.508</td>\n",
       "      <td>2.5719</td>\n",
       "      <td>0.030</td>\n",
       "      <td>0.405</td>\n",
       "      <td>2.565</td>\n",
       "      <td>2.8590</td>\n",
       "      <td>0.030</td>\n",
       "      <td>0.401</td>\n",
       "      <td>2.569</td>\n",
       "    </tr>\n",
       "    <tr>\n",
       "      <th>FE-1075</th>\n",
       "      <td>2.7203</td>\n",
       "      <td>0.053</td>\n",
       "      <td>0.593</td>\n",
       "      <td>2.354</td>\n",
       "      <td>2.8375</td>\n",
       "      <td>0.068</td>\n",
       "      <td>0.574</td>\n",
       "      <td>2.359</td>\n",
       "      <td>2.9637</td>\n",
       "      <td>0.064</td>\n",
       "      <td>0.600</td>\n",
       "      <td>2.335</td>\n",
       "    </tr>\n",
       "    <tr>\n",
       "      <th>FE-1076</th>\n",
       "      <td>0.9790</td>\n",
       "      <td>0.029</td>\n",
       "      <td>0.189</td>\n",
       "      <td>0.782</td>\n",
       "      <td>0.9936</td>\n",
       "      <td>0.031</td>\n",
       "      <td>0.190</td>\n",
       "      <td>0.780</td>\n",
       "      <td>0.9985</td>\n",
       "      <td>0.030</td>\n",
       "      <td>0.193</td>\n",
       "      <td>0.777</td>\n",
       "    </tr>\n",
       "    <tr>\n",
       "      <th>FE-1091</th>\n",
       "      <td>1.4557</td>\n",
       "      <td>0.029</td>\n",
       "      <td>0.321</td>\n",
       "      <td>1.650</td>\n",
       "      <td>1.7287</td>\n",
       "      <td>0.031</td>\n",
       "      <td>0.322</td>\n",
       "      <td>1.648</td>\n",
       "      <td>1.9066</td>\n",
       "      <td>0.030</td>\n",
       "      <td>0.329</td>\n",
       "      <td>1.641</td>\n",
       "    </tr>\n",
       "    <tr>\n",
       "      <th>FE-1092</th>\n",
       "      <td>0.9790</td>\n",
       "      <td>0.029</td>\n",
       "      <td>0.189</td>\n",
       "      <td>0.782</td>\n",
       "      <td>0.9936</td>\n",
       "      <td>0.031</td>\n",
       "      <td>0.190</td>\n",
       "      <td>0.780</td>\n",
       "      <td>0.9985</td>\n",
       "      <td>0.030</td>\n",
       "      <td>0.193</td>\n",
       "      <td>0.777</td>\n",
       "    </tr>\n",
       "  </tbody>\n",
       "</table>\n",
       "</div>"
      ],
      "text/plain": [
       "         Sentimental_all_sum_compound  Sentimental_all_sum_neg  \\\n",
       "key                                                              \n",
       "FE-1044                        1.6597                    0.097   \n",
       "FE-1075                        2.7203                    0.053   \n",
       "FE-1076                        0.9790                    0.029   \n",
       "FE-1091                        1.4557                    0.029   \n",
       "FE-1092                        0.9790                    0.029   \n",
       "\n",
       "         Sentimental_all_sum_pos  Sentimental_all_sum_neu  \\\n",
       "key                                                         \n",
       "FE-1044                    0.396                    2.508   \n",
       "FE-1075                    0.593                    2.354   \n",
       "FE-1076                    0.189                    0.782   \n",
       "FE-1091                    0.321                    1.650   \n",
       "FE-1092                    0.189                    0.782   \n",
       "\n",
       "         Sentimental_bi_g_sum_compound  Sentimental_bi_g_sum_neg  \\\n",
       "key                                                                \n",
       "FE-1044                         2.5719                     0.030   \n",
       "FE-1075                         2.8375                     0.068   \n",
       "FE-1076                         0.9936                     0.031   \n",
       "FE-1091                         1.7287                     0.031   \n",
       "FE-1092                         0.9936                     0.031   \n",
       "\n",
       "         Sentimental_bi_g_sum_pos  Sentimental_bi_g_sum_neu  \\\n",
       "key                                                           \n",
       "FE-1044                     0.405                     2.565   \n",
       "FE-1075                     0.574                     2.359   \n",
       "FE-1076                     0.190                     0.780   \n",
       "FE-1091                     0.322                     1.648   \n",
       "FE-1092                     0.190                     0.780   \n",
       "\n",
       "         Sentimental_tri_g_sum_compound  Sentimental_tri_g_sum_neg  \\\n",
       "key                                                                  \n",
       "FE-1044                          2.8590                      0.030   \n",
       "FE-1075                          2.9637                      0.064   \n",
       "FE-1076                          0.9985                      0.030   \n",
       "FE-1091                          1.9066                      0.030   \n",
       "FE-1092                          0.9985                      0.030   \n",
       "\n",
       "         Sentimental_tri_g_sum_pos  Sentimental_tri_g_sum_neu  \n",
       "key                                                            \n",
       "FE-1044                      0.401                      2.569  \n",
       "FE-1075                      0.600                      2.335  \n",
       "FE-1076                      0.193                      0.777  \n",
       "FE-1091                      0.329                      1.641  \n",
       "FE-1092                      0.193                      0.777  "
      ]
     },
     "execution_count": 86,
     "metadata": {},
     "output_type": "execute_result"
    }
   ],
   "source": [
    "JIRA_comments_agg.head()"
   ]
  },
  {
   "cell_type": "markdown",
   "id": "0c62ffe8",
   "metadata": {},
   "source": [
    "## 7.3 Wyliczenie wskaźnika głosów użytkowników"
   ]
  },
  {
   "cell_type": "code",
   "execution_count": 87,
   "id": "a5f130cc",
   "metadata": {},
   "outputs": [],
   "source": [
    "JIRA_Issues[\"Count_Followers\"]=JIRA_Issues['votes'].astype(int)+JIRA_Issues['watchCount'].astype(int)"
   ]
  },
  {
   "cell_type": "markdown",
   "id": "ed066bdc",
   "metadata": {},
   "source": [
    "Wyświetlanie danych"
   ]
  },
  {
   "cell_type": "code",
   "execution_count": 88,
   "id": "e0bdb452",
   "metadata": {},
   "outputs": [
    {
     "data": {
      "text/html": [
       "<div>\n",
       "<style scoped>\n",
       "    .dataframe tbody tr th:only-of-type {\n",
       "        vertical-align: middle;\n",
       "    }\n",
       "\n",
       "    .dataframe tbody tr th {\n",
       "        vertical-align: top;\n",
       "    }\n",
       "\n",
       "    .dataframe thead th {\n",
       "        text-align: right;\n",
       "    }\n",
       "</style>\n",
       "<table border=\"1\" class=\"dataframe\">\n",
       "  <thead>\n",
       "    <tr style=\"text-align: right;\">\n",
       "      <th></th>\n",
       "      <th>Unnamed: 0</th>\n",
       "      <th>key</th>\n",
       "      <th>summary</th>\n",
       "      <th>votes</th>\n",
       "      <th>watchCount</th>\n",
       "      <th>created</th>\n",
       "      <th>updated</th>\n",
       "      <th>status</th>\n",
       "      <th>resolution</th>\n",
       "      <th>anonymous assignee</th>\n",
       "      <th>anonymous reporter</th>\n",
       "      <th>Count_Followers</th>\n",
       "    </tr>\n",
       "  </thead>\n",
       "  <tbody>\n",
       "    <tr>\n",
       "      <th>0</th>\n",
       "      <td>0</td>\n",
       "      <td>FE-7404</td>\n",
       "      <td>FISHEYE_INST Environment variable is not picke...</td>\n",
       "      <td>0</td>\n",
       "      <td>1</td>\n",
       "      <td>2022-05-19 12:18:39+00:00</td>\n",
       "      <td>2022-05-25 02:20:30+00:00</td>\n",
       "      <td>Short Term Backlog</td>\n",
       "      <td>NaN</td>\n",
       "      <td>Jason Brown</td>\n",
       "      <td>David Moody</td>\n",
       "      <td>1</td>\n",
       "    </tr>\n",
       "    <tr>\n",
       "      <th>1</th>\n",
       "      <td>1</td>\n",
       "      <td>FE-7397</td>\n",
       "      <td>CVE-2021-43955: /rest-service-fecru/server-v1 ...</td>\n",
       "      <td>0</td>\n",
       "      <td>0</td>\n",
       "      <td>2022-03-07 08:15:48+00:00</td>\n",
       "      <td>2022-03-20 20:28:29+00:00</td>\n",
       "      <td>Published</td>\n",
       "      <td>Fixed</td>\n",
       "      <td>Jason Brown</td>\n",
       "      <td>Brian Maxwell</td>\n",
       "      <td>0</td>\n",
       "    </tr>\n",
       "    <tr>\n",
       "      <th>2</th>\n",
       "      <td>2</td>\n",
       "      <td>FE-7395</td>\n",
       "      <td>CVE-2021-43956: Javascript Prototype Pollution...</td>\n",
       "      <td>0</td>\n",
       "      <td>0</td>\n",
       "      <td>2022-03-07 08:15:14+00:00</td>\n",
       "      <td>2022-03-20 20:28:34+00:00</td>\n",
       "      <td>Published</td>\n",
       "      <td>Fixed</td>\n",
       "      <td>Jason Brown</td>\n",
       "      <td>Brian Maxwell</td>\n",
       "      <td>0</td>\n",
       "    </tr>\n",
       "    <tr>\n",
       "      <th>3</th>\n",
       "      <td>3</td>\n",
       "      <td>FE-7388</td>\n",
       "      <td>CVE-2021-43957: Bypass for CVE-2020-29446 (Loc...</td>\n",
       "      <td>0</td>\n",
       "      <td>1</td>\n",
       "      <td>2022-03-07 08:02:11+00:00</td>\n",
       "      <td>2022-03-20 20:28:38+00:00</td>\n",
       "      <td>Published</td>\n",
       "      <td>Fixed</td>\n",
       "      <td>Jason Brown</td>\n",
       "      <td>Brian Maxwell</td>\n",
       "      <td>1</td>\n",
       "    </tr>\n",
       "    <tr>\n",
       "      <th>4</th>\n",
       "      <td>4</td>\n",
       "      <td>FE-7387</td>\n",
       "      <td>CVE-2021-43958: Various rest resources missing...</td>\n",
       "      <td>0</td>\n",
       "      <td>1</td>\n",
       "      <td>2022-03-07 08:01:11+00:00</td>\n",
       "      <td>2022-03-20 20:28:44+00:00</td>\n",
       "      <td>Published</td>\n",
       "      <td>Fixed</td>\n",
       "      <td>Jason Brown</td>\n",
       "      <td>Brian Maxwell</td>\n",
       "      <td>1</td>\n",
       "    </tr>\n",
       "  </tbody>\n",
       "</table>\n",
       "</div>"
      ],
      "text/plain": [
       "   Unnamed: 0      key                                            summary  \\\n",
       "0           0  FE-7404  FISHEYE_INST Environment variable is not picke...   \n",
       "1           1  FE-7397  CVE-2021-43955: /rest-service-fecru/server-v1 ...   \n",
       "2           2  FE-7395  CVE-2021-43956: Javascript Prototype Pollution...   \n",
       "3           3  FE-7388  CVE-2021-43957: Bypass for CVE-2020-29446 (Loc...   \n",
       "4           4  FE-7387  CVE-2021-43958: Various rest resources missing...   \n",
       "\n",
       "   votes  watchCount                    created                    updated  \\\n",
       "0      0           1  2022-05-19 12:18:39+00:00  2022-05-25 02:20:30+00:00   \n",
       "1      0           0  2022-03-07 08:15:48+00:00  2022-03-20 20:28:29+00:00   \n",
       "2      0           0  2022-03-07 08:15:14+00:00  2022-03-20 20:28:34+00:00   \n",
       "3      0           1  2022-03-07 08:02:11+00:00  2022-03-20 20:28:38+00:00   \n",
       "4      0           1  2022-03-07 08:01:11+00:00  2022-03-20 20:28:44+00:00   \n",
       "\n",
       "               status resolution anonymous assignee anonymous reporter  \\\n",
       "0  Short Term Backlog        NaN        Jason Brown        David Moody   \n",
       "1           Published      Fixed        Jason Brown      Brian Maxwell   \n",
       "2           Published      Fixed        Jason Brown      Brian Maxwell   \n",
       "3           Published      Fixed        Jason Brown      Brian Maxwell   \n",
       "4           Published      Fixed        Jason Brown      Brian Maxwell   \n",
       "\n",
       "   Count_Followers  \n",
       "0                1  \n",
       "1                0  \n",
       "2                0  \n",
       "3                1  \n",
       "4                1  "
      ]
     },
     "execution_count": 88,
     "metadata": {},
     "output_type": "execute_result"
    }
   ],
   "source": [
    "JIRA_Issues.head()"
   ]
  },
  {
   "cell_type": "markdown",
   "id": "f2e36103",
   "metadata": {},
   "source": [
    "## 7.4 Łączenie danych"
   ]
  },
  {
   "cell_type": "markdown",
   "id": "a659e8ba",
   "metadata": {},
   "source": [
    "Łączymy dane zaagregowane komentarze z danymi ze zgłoszeniami po kluczu key"
   ]
  },
  {
   "cell_type": "code",
   "execution_count": 89,
   "id": "46bcb30a",
   "metadata": {},
   "outputs": [],
   "source": [
    "JIRA_data=pd.merge(JIRA_Issues,JIRA_comments_agg, on='key')"
   ]
  },
  {
   "cell_type": "markdown",
   "id": "136c5b85",
   "metadata": {},
   "source": [
    "Wyświetlanie liczności danych"
   ]
  },
  {
   "cell_type": "code",
   "execution_count": 90,
   "id": "7c70258b",
   "metadata": {},
   "outputs": [
    {
     "data": {
      "text/plain": [
       "Unnamed: 0                        824\n",
       "key                               824\n",
       "summary                           824\n",
       "votes                             824\n",
       "watchCount                        824\n",
       "created                           824\n",
       "updated                           824\n",
       "status                            824\n",
       "resolution                         12\n",
       "anonymous assignee                824\n",
       "anonymous reporter                824\n",
       "Count_Followers                   824\n",
       "Sentimental_all_sum_compound      824\n",
       "Sentimental_all_sum_neg           824\n",
       "Sentimental_all_sum_pos           824\n",
       "Sentimental_all_sum_neu           824\n",
       "Sentimental_bi_g_sum_compound     824\n",
       "Sentimental_bi_g_sum_neg          824\n",
       "Sentimental_bi_g_sum_pos          824\n",
       "Sentimental_bi_g_sum_neu          824\n",
       "Sentimental_tri_g_sum_compound    824\n",
       "Sentimental_tri_g_sum_neg         824\n",
       "Sentimental_tri_g_sum_pos         824\n",
       "Sentimental_tri_g_sum_neu         824\n",
       "dtype: int64"
      ]
     },
     "execution_count": 90,
     "metadata": {},
     "output_type": "execute_result"
    }
   ],
   "source": [
    "JIRA_data.count()"
   ]
  },
  {
   "cell_type": "markdown",
   "id": "78bb763b",
   "metadata": {},
   "source": [
    "# 8 Segmentacja"
   ]
  },
  {
   "cell_type": "markdown",
   "id": "3e6f0022",
   "metadata": {},
   "source": [
    "## 8.1 Przygotowanie zbiorów "
   ]
  },
  {
   "cell_type": "markdown",
   "id": "e4ca57a0",
   "metadata": {},
   "source": [
    "<style type=\"text/css\">\n",
    ".tg  {border-collapse:collapse;border-spacing:0;}\n",
    ".tg td{border-color:black;border-style:solid;border-width:1px;font-family:Arial, sans-serif;font-size:14px;\n",
    "  overflow:hidden;padding:10px 5px;word-break:normal;}\n",
    ".tg th{border-color:black;border-style:solid;border-width:1px;font-family:Arial, sans-serif;font-size:14px;\n",
    "  font-weight:normal;overflow:hidden;padding:10px 5px;word-break:normal;}\n",
    ".tg .tg-y6fn{background-color:#c0c0c0;text-align:left;vertical-align:top}\n",
    ".tg .tg-0lax{text-align:left;vertical-align:top}\n",
    "</style>\n",
    "<table class=\"tg\">\n",
    "<thead>\n",
    "  <tr>\n",
    "    <th class=\"tg-y6fn\">Grupa</th>\n",
    "    <th class=\"tg-y6fn\">Lista cech</th>\n",
    "    <th class=\"tg-y6fn\">Opis badania grupy</th>\n",
    "  </tr>\n",
    "</thead>\n",
    "<tbody>\n",
    "  <tr>\n",
    "    <td class=\"tg-0lax\" rowspan=\"2\">1</td>\n",
    "    <td class=\"tg-0lax\">1)      Count_Followers</td>\n",
    "    <td class=\"tg-0lax\" rowspan=\"2\">Badamy liczbę segmentów&nbsp;&nbsp;na poziome liczby obserwujących zgłoszenie i wynikiem sumarycznym sentymentu zgłoszenia.</td>\n",
    "  </tr>\n",
    "  <tr>\n",
    "    <td class=\"tg-0lax\">2)      Sentimental_all_sum_compound</td>\n",
    "  </tr>\n",
    "  <tr>\n",
    "    <td class=\"tg-0lax\" rowspan=\"2\">2</td>\n",
    "    <td class=\"tg-0lax\">1)      Count_Followers</td>\n",
    "    <td class=\"tg-0lax\" rowspan=\"2\">Badamy liczbę segmentów na poziome liczby obserwujących zgłoszenie i wynikiem sumarycznym sentymentu zgłoszenia bazując na bigramach.</td>\n",
    "  </tr>\n",
    "  <tr>\n",
    "    <td class=\"tg-0lax\">2)      Sentimental_bi_g_sum_compound</td>\n",
    "  </tr>\n",
    "  <tr>\n",
    "    <td class=\"tg-0lax\" rowspan=\"2\">3</td>\n",
    "    <td class=\"tg-0lax\">1)      Count_Followers</td>\n",
    "    <td class=\"tg-0lax\" rowspan=\"2\">Badamy liczbę segmentów na poziome liczby obserwujących zgłoszenie i wynikiem sumarycznym sentymentu zgłoszenia bazując na trigramach.</td>\n",
    "  </tr>\n",
    "  <tr>\n",
    "    <td class=\"tg-0lax\">2)      Sentimental_tri_g_sum_compound</td>\n",
    "  </tr>\n",
    "  <tr>\n",
    "    <td class=\"tg-0lax\" rowspan=\"2\">4</td>\n",
    "    <td class=\"tg-0lax\">1)      Count_Followers</td>\n",
    "    <td class=\"tg-0lax\" rowspan=\"2\">Badamy liczbę segmentów na poziome liczby obserwujących zgłoszenie i wynikiem sumarycznym negatywnych wskaźników sentymentu zgłoszenia.</td>\n",
    "  </tr>\n",
    "  <tr>\n",
    "    <td class=\"tg-0lax\">2)      Sentimental_all sum_neg</td>\n",
    "  </tr>\n",
    "  <tr>\n",
    "    <td class=\"tg-0lax\" rowspan=\"2\">5</td>\n",
    "    <td class=\"tg-0lax\">1)      Count_Followers</td>\n",
    "    <td class=\"tg-0lax\" rowspan=\"2\">Badamy liczbę segmentów na poziome liczby obserwujących zgłoszenie i wynikiem sumarycznym pozytywnych wskaźników sentymentu zgłoszenia.</td>\n",
    "  </tr>\n",
    "  <tr>\n",
    "    <td class=\"tg-0lax\">2)      Sentimental_all sum_pos</td>\n",
    "  </tr>\n",
    "  <tr>\n",
    "    <td class=\"tg-0lax\" rowspan=\"2\">6</td>\n",
    "    <td class=\"tg-0lax\">1)      Sentimental_all sum_pos</td>\n",
    "    <td class=\"tg-0lax\" rowspan=\"2\">Badamy liczbę segmentów na poziome wyników pozytywnych i negatywnych wskaźników sentymentu zgłoszenia.</td>\n",
    "  </tr>\n",
    "  <tr>\n",
    "    <td class=\"tg-0lax\">2)      Sentimental_all sum_neg</td>\n",
    "  </tr>\n",
    "  <tr>\n",
    "    <td class=\"tg-0lax\" rowspan=\"2\">7</td>\n",
    "    <td class=\"tg-0lax\">1)      Count_Followers</td>\n",
    "    <td class=\"tg-0lax\" rowspan=\"2\">Badamy liczbę segmentów na poziome liczby obserwujących zgłoszenie i wynikiem sumarycznym pozytywnych i negatywnych wskaźników sentymentu zgłoszenia.</td>\n",
    "  </tr>\n",
    "  <tr>\n",
    "    <td class=\"tg-0lax\">2)      Sentimental_all_sum_neg + Sentimental_all sum_neg</td>\n",
    "  </tr>\n",
    "</tbody>\n",
    "</table>"
   ]
  },
  {
   "cell_type": "markdown",
   "id": "d78875cb",
   "metadata": {},
   "source": [
    "Tworzenie grup cech"
   ]
  },
  {
   "cell_type": "code",
   "execution_count": 91,
   "id": "6bbd6fba",
   "metadata": {},
   "outputs": [],
   "source": [
    "JIRA_data_group_1=JIRA_data[['Count_Followers','Sentimental_all_sum_compound']]"
   ]
  },
  {
   "cell_type": "code",
   "execution_count": 92,
   "id": "eb90d72e",
   "metadata": {},
   "outputs": [],
   "source": [
    "JIRA_data_group_2=JIRA_data[['Count_Followers','Sentimental_bi_g_sum_compound']]"
   ]
  },
  {
   "cell_type": "code",
   "execution_count": 93,
   "id": "32d6a654",
   "metadata": {},
   "outputs": [],
   "source": [
    "JIRA_data_group_3=JIRA_data[['Count_Followers','Sentimental_tri_g_sum_compound']]"
   ]
  },
  {
   "cell_type": "code",
   "execution_count": 94,
   "id": "75713d51",
   "metadata": {},
   "outputs": [],
   "source": [
    "JIRA_data_group_4=JIRA_data[['Count_Followers','Sentimental_all_sum_neg']]"
   ]
  },
  {
   "cell_type": "code",
   "execution_count": 95,
   "id": "cd04c1e1",
   "metadata": {},
   "outputs": [],
   "source": [
    "JIRA_data_group_5=JIRA_data[['Count_Followers','Sentimental_all_sum_pos']]"
   ]
  },
  {
   "cell_type": "code",
   "execution_count": 96,
   "id": "f96d494a",
   "metadata": {},
   "outputs": [],
   "source": [
    "JIRA_data_group_6=JIRA_data[['Sentimental_all_sum_pos','Sentimental_all_sum_neg']]"
   ]
  },
  {
   "cell_type": "code",
   "execution_count": 97,
   "id": "c94184ab",
   "metadata": {},
   "outputs": [],
   "source": [
    "JIRA_data_group_7=JIRA_data[['Count_Followers']]"
   ]
  },
  {
   "cell_type": "code",
   "execution_count": 98,
   "id": "c89ef1e5",
   "metadata": {},
   "outputs": [],
   "source": [
    "JIRA_data_group_7['Sentimental_all_sum_neg_pos']=JIRA_data['Sentimental_all_sum_pos']+JIRA_data['Sentimental_all_sum_neg']"
   ]
  },
  {
   "cell_type": "markdown",
   "id": "e0244503",
   "metadata": {},
   "source": [
    "Opisy etykiet "
   ]
  },
  {
   "cell_type": "code",
   "execution_count": 99,
   "id": "ba202f71",
   "metadata": {},
   "outputs": [],
   "source": [
    "Etykiety = pd.DataFrame({\"Group\": [1, 2, 3, 4, 5, 6, 7], \"x\": [\"Count_Followers\", \"Count_Followers\", \"Count_Followers\",\"Count_Followers\",\"Count_Followers\",\"Sentimental_all_sum_pos\",\"Count_Followers\"],\"y\": [\"Sentimental_all_sum_compound\",\"Sentimental_bi_g_sum_compound\",\"Sentimental_tri_g_sum_compound\",\"Sentimental_all_sum_neg\",\"Sentimental_all_sum_pos\",\"Sentimental_all_sum_neg\",\"Sentimental_all_sum_neg_pos\"]})"
   ]
  },
  {
   "cell_type": "markdown",
   "id": "4e8e0b87",
   "metadata": {},
   "source": [
    "# 8. Analiza segmentacji dla grupy cech x"
   ]
  },
  {
   "cell_type": "markdown",
   "id": "3dd12d53",
   "metadata": {},
   "source": [
    "Ustaw zmienną grupy (od 1 do 7)"
   ]
  },
  {
   "cell_type": "code",
   "execution_count": 100,
   "id": "944e46aa",
   "metadata": {},
   "outputs": [],
   "source": [
    " Data_group_selection = JIRA_data_group_1 ; Number_grup = 1 #ustawienie na dane z grupy 1"
   ]
  },
  {
   "cell_type": "code",
   "execution_count": 101,
   "id": "e8615c89",
   "metadata": {},
   "outputs": [],
   "source": [
    "# Data_group_selection = JIRA_data_group_2 ; Number_grup = 2 #ustawienie na dane z grupy 2"
   ]
  },
  {
   "cell_type": "code",
   "execution_count": 102,
   "id": "713ed732",
   "metadata": {},
   "outputs": [],
   "source": [
    "# Data_group_selection = JIRA_data_group_3 ; Number_grup = 3 #ustawienie na dane z grupy 3"
   ]
  },
  {
   "cell_type": "code",
   "execution_count": 103,
   "id": "e0df8e4a",
   "metadata": {},
   "outputs": [],
   "source": [
    "# Data_group_selection = JIRA_data_group_4 ; Number_grup = 4 #ustawienie na dane z grupy 4"
   ]
  },
  {
   "cell_type": "code",
   "execution_count": 104,
   "id": "bdc5ddfe",
   "metadata": {},
   "outputs": [],
   "source": [
    "# Data_group_selection = JIRA_data_group_5 ; Number_grup = 5 #ustawienie na dane z grupy 5"
   ]
  },
  {
   "cell_type": "code",
   "execution_count": 105,
   "id": "b28fe2d7",
   "metadata": {},
   "outputs": [],
   "source": [
    "# Data_group_selection = JIRA_data_group_6 ; Number_grup = 6 #ustawienie na dane z grupy 6"
   ]
  },
  {
   "cell_type": "code",
   "execution_count": 1,
   "id": "bc06c703",
   "metadata": {},
   "outputs": [],
   "source": [
    "# Data_group_selection = JIRA_data_group_7 ; Number_grup = 7 #ustawienie na dane z grupy 7"
   ]
  },
  {
   "cell_type": "markdown",
   "id": "8f3cbd52",
   "metadata": {},
   "source": [
    "## 8.1 Usuwanie obserwacji odstających"
   ]
  },
  {
   "cell_type": "code",
   "execution_count": 107,
   "id": "0058c36c",
   "metadata": {},
   "outputs": [],
   "source": [
    "start_count=Data_group_selection.count()"
   ]
  },
  {
   "cell_type": "code",
   "execution_count": 108,
   "id": "7b70ca12",
   "metadata": {},
   "outputs": [],
   "source": [
    "q1 = Data_group_selection.quantile(0.25)\n",
    "q3 = Data_group_selection.quantile(0.75)\n",
    "iqr = q3 - q1\n",
    "\n",
    "low_boundary = (q1 - 1.5 * iqr)\n",
    "upp_boundary = (q3 + 1.5 * iqr)\n",
    "num_of_outliers_L = (Data_group_selection[iqr.index] < low_boundary).sum()\n",
    "num_of_outliers_U = (Data_group_selection[iqr.index] > upp_boundary).sum()\n",
    "outliers = pd.DataFrame({'lower_boundary':low_boundary, 'upper_boundary':upp_boundary,'num_of_outliers__lower_boundary':num_of_outliers_L, 'num_of_outliers__upper_boundary':num_of_outliers_U})"
   ]
  },
  {
   "cell_type": "code",
   "execution_count": 109,
   "id": "cf19fe36",
   "metadata": {},
   "outputs": [
    {
     "data": {
      "text/html": [
       "<div>\n",
       "<style scoped>\n",
       "    .dataframe tbody tr th:only-of-type {\n",
       "        vertical-align: middle;\n",
       "    }\n",
       "\n",
       "    .dataframe tbody tr th {\n",
       "        vertical-align: top;\n",
       "    }\n",
       "\n",
       "    .dataframe thead th {\n",
       "        text-align: right;\n",
       "    }\n",
       "</style>\n",
       "<table border=\"1\" class=\"dataframe\">\n",
       "  <thead>\n",
       "    <tr style=\"text-align: right;\">\n",
       "      <th></th>\n",
       "      <th>lower_boundary</th>\n",
       "      <th>upper_boundary</th>\n",
       "      <th>num_of_outliers__lower_boundary</th>\n",
       "      <th>num_of_outliers__upper_boundary</th>\n",
       "    </tr>\n",
       "  </thead>\n",
       "  <tbody>\n",
       "    <tr>\n",
       "      <th>Count_Followers</th>\n",
       "      <td>-6.5000</td>\n",
       "      <td>13.5000</td>\n",
       "      <td>0</td>\n",
       "      <td>106</td>\n",
       "    </tr>\n",
       "    <tr>\n",
       "      <th>Sentimental_all_sum_neg_pos</th>\n",
       "      <td>-0.0895</td>\n",
       "      <td>0.7305</td>\n",
       "      <td>0</td>\n",
       "      <td>84</td>\n",
       "    </tr>\n",
       "  </tbody>\n",
       "</table>\n",
       "</div>"
      ],
      "text/plain": [
       "                             lower_boundary  upper_boundary  \\\n",
       "Count_Followers                     -6.5000         13.5000   \n",
       "Sentimental_all_sum_neg_pos         -0.0895          0.7305   \n",
       "\n",
       "                             num_of_outliers__lower_boundary  \\\n",
       "Count_Followers                                            0   \n",
       "Sentimental_all_sum_neg_pos                                0   \n",
       "\n",
       "                             num_of_outliers__upper_boundary  \n",
       "Count_Followers                                          106  \n",
       "Sentimental_all_sum_neg_pos                               84  "
      ]
     },
     "execution_count": 109,
     "metadata": {},
     "output_type": "execute_result"
    }
   ],
   "source": [
    "outliers"
   ]
  },
  {
   "cell_type": "code",
   "execution_count": 110,
   "id": "12088329",
   "metadata": {},
   "outputs": [],
   "source": [
    "for row in outliers.iterrows():\n",
    "    Data_group_selection = Data_group_selection[(Data_group_selection[row[0]] >= row[1]['lower_boundary']) & (Data_group_selection[row[0]] <= row[1]['upper_boundary'])]"
   ]
  },
  {
   "cell_type": "code",
   "execution_count": 111,
   "id": "b6d82fe9",
   "metadata": {},
   "outputs": [
    {
     "name": "stdout",
     "output_type": "stream",
     "text": [
      "Usunięto = Count_Followers                134\n",
      "Sentimental_all_sum_neg_pos    134\n",
      "dtype: int64 Obserwacji)\n"
     ]
    }
   ],
   "source": [
    "print(\"Usunięto = {} Obserwacji)\".format(start_count - Data_group_selection.count()))"
   ]
  },
  {
   "cell_type": "code",
   "execution_count": 112,
   "id": "1b218d5d",
   "metadata": {},
   "outputs": [],
   "source": [
    "Data_group_selection=Data_group_selection.reset_index(drop=True)"
   ]
  },
  {
   "cell_type": "code",
   "execution_count": 113,
   "id": "a6c60d5d",
   "metadata": {},
   "outputs": [
    {
     "data": {
      "text/html": [
       "<div>\n",
       "<style scoped>\n",
       "    .dataframe tbody tr th:only-of-type {\n",
       "        vertical-align: middle;\n",
       "    }\n",
       "\n",
       "    .dataframe tbody tr th {\n",
       "        vertical-align: top;\n",
       "    }\n",
       "\n",
       "    .dataframe thead th {\n",
       "        text-align: right;\n",
       "    }\n",
       "</style>\n",
       "<table border=\"1\" class=\"dataframe\">\n",
       "  <thead>\n",
       "    <tr style=\"text-align: right;\">\n",
       "      <th></th>\n",
       "      <th>Count_Followers</th>\n",
       "      <th>Sentimental_all_sum_neg_pos</th>\n",
       "    </tr>\n",
       "  </thead>\n",
       "  <tbody>\n",
       "    <tr>\n",
       "      <th>0</th>\n",
       "      <td>0</td>\n",
       "      <td>0.186</td>\n",
       "    </tr>\n",
       "    <tr>\n",
       "      <th>1</th>\n",
       "      <td>0</td>\n",
       "      <td>0.209</td>\n",
       "    </tr>\n",
       "    <tr>\n",
       "      <th>2</th>\n",
       "      <td>1</td>\n",
       "      <td>0.186</td>\n",
       "    </tr>\n",
       "    <tr>\n",
       "      <th>3</th>\n",
       "      <td>1</td>\n",
       "      <td>0.140</td>\n",
       "    </tr>\n",
       "    <tr>\n",
       "      <th>4</th>\n",
       "      <td>1</td>\n",
       "      <td>0.209</td>\n",
       "    </tr>\n",
       "  </tbody>\n",
       "</table>\n",
       "</div>"
      ],
      "text/plain": [
       "   Count_Followers  Sentimental_all_sum_neg_pos\n",
       "0                0                        0.186\n",
       "1                0                        0.209\n",
       "2                1                        0.186\n",
       "3                1                        0.140\n",
       "4                1                        0.209"
      ]
     },
     "execution_count": 113,
     "metadata": {},
     "output_type": "execute_result"
    }
   ],
   "source": [
    "Data_group_selection.head()"
   ]
  },
  {
   "cell_type": "markdown",
   "id": "3f5bf32e",
   "metadata": {},
   "source": [
    "## 8.2 Skalowanie danych"
   ]
  },
  {
   "cell_type": "markdown",
   "id": "35984bc0",
   "metadata": {},
   "source": [
    "### 8.1.1 Import bibliotek"
   ]
  },
  {
   "cell_type": "code",
   "execution_count": 114,
   "id": "9b76806e",
   "metadata": {},
   "outputs": [],
   "source": [
    "from sklearn.preprocessing import StandardScaler"
   ]
  },
  {
   "cell_type": "code",
   "execution_count": 115,
   "id": "45559081",
   "metadata": {},
   "outputs": [],
   "source": [
    "scaler = StandardScaler()"
   ]
  },
  {
   "cell_type": "markdown",
   "id": "87a37bf0",
   "metadata": {},
   "source": [
    "### 8.2.2 Skalowanie "
   ]
  },
  {
   "cell_type": "markdown",
   "id": "3a9c4a5d",
   "metadata": {},
   "source": [
    "Skalowanie grupy"
   ]
  },
  {
   "cell_type": "code",
   "execution_count": 116,
   "id": "a0d25bf7",
   "metadata": {},
   "outputs": [
    {
     "data": {
      "text/html": [
       "<style>#sk-container-id-1 {color: black;background-color: white;}#sk-container-id-1 pre{padding: 0;}#sk-container-id-1 div.sk-toggleable {background-color: white;}#sk-container-id-1 label.sk-toggleable__label {cursor: pointer;display: block;width: 100%;margin-bottom: 0;padding: 0.3em;box-sizing: border-box;text-align: center;}#sk-container-id-1 label.sk-toggleable__label-arrow:before {content: \"▸\";float: left;margin-right: 0.25em;color: #696969;}#sk-container-id-1 label.sk-toggleable__label-arrow:hover:before {color: black;}#sk-container-id-1 div.sk-estimator:hover label.sk-toggleable__label-arrow:before {color: black;}#sk-container-id-1 div.sk-toggleable__content {max-height: 0;max-width: 0;overflow: hidden;text-align: left;background-color: #f0f8ff;}#sk-container-id-1 div.sk-toggleable__content pre {margin: 0.2em;color: black;border-radius: 0.25em;background-color: #f0f8ff;}#sk-container-id-1 input.sk-toggleable__control:checked~div.sk-toggleable__content {max-height: 200px;max-width: 100%;overflow: auto;}#sk-container-id-1 input.sk-toggleable__control:checked~label.sk-toggleable__label-arrow:before {content: \"▾\";}#sk-container-id-1 div.sk-estimator input.sk-toggleable__control:checked~label.sk-toggleable__label {background-color: #d4ebff;}#sk-container-id-1 div.sk-label input.sk-toggleable__control:checked~label.sk-toggleable__label {background-color: #d4ebff;}#sk-container-id-1 input.sk-hidden--visually {border: 0;clip: rect(1px 1px 1px 1px);clip: rect(1px, 1px, 1px, 1px);height: 1px;margin: -1px;overflow: hidden;padding: 0;position: absolute;width: 1px;}#sk-container-id-1 div.sk-estimator {font-family: monospace;background-color: #f0f8ff;border: 1px dotted black;border-radius: 0.25em;box-sizing: border-box;margin-bottom: 0.5em;}#sk-container-id-1 div.sk-estimator:hover {background-color: #d4ebff;}#sk-container-id-1 div.sk-parallel-item::after {content: \"\";width: 100%;border-bottom: 1px solid gray;flex-grow: 1;}#sk-container-id-1 div.sk-label:hover label.sk-toggleable__label {background-color: #d4ebff;}#sk-container-id-1 div.sk-serial::before {content: \"\";position: absolute;border-left: 1px solid gray;box-sizing: border-box;top: 0;bottom: 0;left: 50%;z-index: 0;}#sk-container-id-1 div.sk-serial {display: flex;flex-direction: column;align-items: center;background-color: white;padding-right: 0.2em;padding-left: 0.2em;position: relative;}#sk-container-id-1 div.sk-item {position: relative;z-index: 1;}#sk-container-id-1 div.sk-parallel {display: flex;align-items: stretch;justify-content: center;background-color: white;position: relative;}#sk-container-id-1 div.sk-item::before, #sk-container-id-1 div.sk-parallel-item::before {content: \"\";position: absolute;border-left: 1px solid gray;box-sizing: border-box;top: 0;bottom: 0;left: 50%;z-index: -1;}#sk-container-id-1 div.sk-parallel-item {display: flex;flex-direction: column;z-index: 1;position: relative;background-color: white;}#sk-container-id-1 div.sk-parallel-item:first-child::after {align-self: flex-end;width: 50%;}#sk-container-id-1 div.sk-parallel-item:last-child::after {align-self: flex-start;width: 50%;}#sk-container-id-1 div.sk-parallel-item:only-child::after {width: 0;}#sk-container-id-1 div.sk-dashed-wrapped {border: 1px dashed gray;margin: 0 0.4em 0.5em 0.4em;box-sizing: border-box;padding-bottom: 0.4em;background-color: white;}#sk-container-id-1 div.sk-label label {font-family: monospace;font-weight: bold;display: inline-block;line-height: 1.2em;}#sk-container-id-1 div.sk-label-container {text-align: center;}#sk-container-id-1 div.sk-container {/* jupyter's `normalize.less` sets `[hidden] { display: none; }` but bootstrap.min.css set `[hidden] { display: none !important; }` so we also need the `!important` here to be able to override the default hidden behavior on the sphinx rendered scikit-learn.org. See: https://github.com/scikit-learn/scikit-learn/issues/21755 */display: inline-block !important;position: relative;}#sk-container-id-1 div.sk-text-repr-fallback {display: none;}</style><div id=\"sk-container-id-1\" class=\"sk-top-container\"><div class=\"sk-text-repr-fallback\"><pre>StandardScaler()</pre><b>In a Jupyter environment, please rerun this cell to show the HTML representation or trust the notebook. <br />On GitHub, the HTML representation is unable to render, please try loading this page with nbviewer.org.</b></div><div class=\"sk-container\" hidden><div class=\"sk-item\"><div class=\"sk-estimator sk-toggleable\"><input class=\"sk-toggleable__control sk-hidden--visually\" id=\"sk-estimator-id-1\" type=\"checkbox\" checked><label for=\"sk-estimator-id-1\" class=\"sk-toggleable__label sk-toggleable__label-arrow\">StandardScaler</label><div class=\"sk-toggleable__content\"><pre>StandardScaler()</pre></div></div></div></div></div>"
      ],
      "text/plain": [
       "StandardScaler()"
      ]
     },
     "execution_count": 116,
     "metadata": {},
     "output_type": "execute_result"
    }
   ],
   "source": [
    "scaler.fit(Data_group_selection)\n"
   ]
  },
  {
   "cell_type": "code",
   "execution_count": 117,
   "id": "88e9a055",
   "metadata": {},
   "outputs": [],
   "source": [
    "JIRA_Data_group_selection_scaled = scaler.transform(Data_group_selection)\n"
   ]
  },
  {
   "cell_type": "code",
   "execution_count": 118,
   "id": "e632086b",
   "metadata": {},
   "outputs": [],
   "source": [
    "JIRA_Data_group_selection_scaled_df = pd.DataFrame(data=JIRA_Data_group_selection_scaled) \n"
   ]
  },
  {
   "cell_type": "markdown",
   "id": "9dba3692",
   "metadata": {},
   "source": [
    "Wyświetl dane"
   ]
  },
  {
   "cell_type": "code",
   "execution_count": 119,
   "id": "08dafff5",
   "metadata": {},
   "outputs": [
    {
     "data": {
      "text/html": [
       "<div>\n",
       "<style scoped>\n",
       "    .dataframe tbody tr th:only-of-type {\n",
       "        vertical-align: middle;\n",
       "    }\n",
       "\n",
       "    .dataframe tbody tr th {\n",
       "        vertical-align: top;\n",
       "    }\n",
       "\n",
       "    .dataframe thead th {\n",
       "        text-align: right;\n",
       "    }\n",
       "</style>\n",
       "<table border=\"1\" class=\"dataframe\">\n",
       "  <thead>\n",
       "    <tr style=\"text-align: right;\">\n",
       "      <th></th>\n",
       "      <th>0</th>\n",
       "      <th>1</th>\n",
       "    </tr>\n",
       "  </thead>\n",
       "  <tbody>\n",
       "    <tr>\n",
       "      <th>0</th>\n",
       "      <td>-1.000877</td>\n",
       "      <td>-0.816046</td>\n",
       "    </tr>\n",
       "    <tr>\n",
       "      <th>1</th>\n",
       "      <td>-1.000877</td>\n",
       "      <td>-0.627275</td>\n",
       "    </tr>\n",
       "    <tr>\n",
       "      <th>2</th>\n",
       "      <td>-0.652262</td>\n",
       "      <td>-0.816046</td>\n",
       "    </tr>\n",
       "    <tr>\n",
       "      <th>3</th>\n",
       "      <td>-0.652262</td>\n",
       "      <td>-1.193588</td>\n",
       "    </tr>\n",
       "    <tr>\n",
       "      <th>4</th>\n",
       "      <td>-0.652262</td>\n",
       "      <td>-0.627275</td>\n",
       "    </tr>\n",
       "    <tr>\n",
       "      <th>...</th>\n",
       "      <td>...</td>\n",
       "      <td>...</td>\n",
       "    </tr>\n",
       "    <tr>\n",
       "      <th>685</th>\n",
       "      <td>-0.652262</td>\n",
       "      <td>-0.553408</td>\n",
       "    </tr>\n",
       "    <tr>\n",
       "      <th>686</th>\n",
       "      <td>-0.652262</td>\n",
       "      <td>-0.553408</td>\n",
       "    </tr>\n",
       "    <tr>\n",
       "      <th>687</th>\n",
       "      <td>2.833881</td>\n",
       "      <td>1.038836</td>\n",
       "    </tr>\n",
       "    <tr>\n",
       "      <th>688</th>\n",
       "      <td>1.788038</td>\n",
       "      <td>1.531283</td>\n",
       "    </tr>\n",
       "    <tr>\n",
       "      <th>689</th>\n",
       "      <td>-1.000877</td>\n",
       "      <td>-0.553408</td>\n",
       "    </tr>\n",
       "  </tbody>\n",
       "</table>\n",
       "<p>690 rows × 2 columns</p>\n",
       "</div>"
      ],
      "text/plain": [
       "            0         1\n",
       "0   -1.000877 -0.816046\n",
       "1   -1.000877 -0.627275\n",
       "2   -0.652262 -0.816046\n",
       "3   -0.652262 -1.193588\n",
       "4   -0.652262 -0.627275\n",
       "..        ...       ...\n",
       "685 -0.652262 -0.553408\n",
       "686 -0.652262 -0.553408\n",
       "687  2.833881  1.038836\n",
       "688  1.788038  1.531283\n",
       "689 -1.000877 -0.553408\n",
       "\n",
       "[690 rows x 2 columns]"
      ]
     },
     "execution_count": 119,
     "metadata": {},
     "output_type": "execute_result"
    }
   ],
   "source": [
    "JIRA_Data_group_selection_scaled_df"
   ]
  },
  {
   "cell_type": "markdown",
   "id": "4766b0bd",
   "metadata": {},
   "source": [
    "## 8.3 Algorytm K-średnich"
   ]
  },
  {
   "cell_type": "markdown",
   "id": "5f9f9051",
   "metadata": {},
   "source": [
    "### 8.3.1 Import bibliotek"
   ]
  },
  {
   "cell_type": "code",
   "execution_count": 120,
   "id": "1e84a42d",
   "metadata": {},
   "outputs": [],
   "source": [
    "import sklearn"
   ]
  },
  {
   "cell_type": "code",
   "execution_count": 121,
   "id": "65aff7b8",
   "metadata": {},
   "outputs": [],
   "source": [
    "from sklearn.cluster import KMeans"
   ]
  },
  {
   "cell_type": "markdown",
   "id": "22df38f8",
   "metadata": {},
   "source": [
    "### 8.3.2 Wyznaczamy wskaźnik Silhouette Score"
   ]
  },
  {
   "cell_type": "markdown",
   "id": "e3794557",
   "metadata": {},
   "source": [
    "Wyznaczamy wskaźnik silhouette score"
   ]
  },
  {
   "cell_type": "code",
   "execution_count": 122,
   "id": "c0587999",
   "metadata": {},
   "outputs": [
    {
     "name": "stdout",
     "output_type": "stream",
     "text": [
      "Dla k = 2 klastrów, Silhouette Score jest równy 0.564)\n",
      "Dla k = 3 klastrów, Silhouette Score jest równy 0.5851)\n",
      "Dla k = 4 klastrów, Silhouette Score jest równy 0.5301)\n",
      "Dla k = 5 klastrów, Silhouette Score jest równy 0.5372)\n",
      "Dla k = 6 klastrów, Silhouette Score jest równy 0.5423)\n",
      "Dla k = 7 klastrów, Silhouette Score jest równy 0.5517)\n",
      "Dla k = 8 klastrów, Silhouette Score jest równy 0.5086)\n",
      "Dla k = 9 klastrów, Silhouette Score jest równy 0.5147)\n",
      "Dla k = 10 klastrów, Silhouette Score jest równy 0.5131)\n",
      "Optymalna liczba grupu to  3 ,Wartość Silhouette Score jest równa 0.5851\n"
     ]
    }
   ],
   "source": [
    "optimum_n=0\n",
    "optimum_score=-1\n",
    "res = []\n",
    "for n in range(2,11):\n",
    "    \n",
    "    clusterer = KMeans(n_clusters=n)\n",
    "    preds = clusterer.fit_predict(JIRA_Data_group_selection_scaled_df)\n",
    "    res.append([n, clusterer.inertia_])\n",
    "    \n",
    "    score = sklearn.metrics.silhouette_score(JIRA_Data_group_selection_scaled_df, preds)\n",
    "    print(\"Dla k = {} klastrów, Silhouette Score jest równy {})\".format(n, score.round(4)))\n",
    "    if optimum_score < score :\n",
    "        optimum_n=n\n",
    "        optimum_score=score\n",
    "res = pd.DataFrame(res, columns = ['liczba_grup', 'inercja'])    \n",
    "print(\"Optymalna liczba grupu to  {} ,Wartość Silhouette Score jest równa {}\".format(optimum_n, optimum_score.round(4)))\n"
   ]
  },
  {
   "cell_type": "code",
   "execution_count": 123,
   "id": "5619c64e",
   "metadata": {},
   "outputs": [
    {
     "data": {
      "text/plain": [
       "3"
      ]
     },
     "execution_count": 123,
     "metadata": {},
     "output_type": "execute_result"
    }
   ],
   "source": [
    "optimum_n"
   ]
  },
  {
   "cell_type": "markdown",
   "id": "677604e2",
   "metadata": {},
   "source": [
    "### 8.3.3 Wyznaczamy współczynnik spadku wartości inercji"
   ]
  },
  {
   "cell_type": "code",
   "execution_count": 124,
   "id": "edea5136",
   "metadata": {},
   "outputs": [],
   "source": [
    "diff = [0]\n",
    "for n in range(0,8):\n",
    "    diff.append(((res.iloc[n,1] - res.iloc[n+1, 1])/res.iloc[n, 1]*100))\n",
    "res = res.assign(zysk_proc = diff)\n",
    "res.set_index('liczba_grup', inplace = True)"
   ]
  },
  {
   "cell_type": "code",
   "execution_count": 125,
   "id": "bfa2c5cf",
   "metadata": {},
   "outputs": [
    {
     "data": {
      "text/html": [
       "<div>\n",
       "<style scoped>\n",
       "    .dataframe tbody tr th:only-of-type {\n",
       "        vertical-align: middle;\n",
       "    }\n",
       "\n",
       "    .dataframe tbody tr th {\n",
       "        vertical-align: top;\n",
       "    }\n",
       "\n",
       "    .dataframe thead th {\n",
       "        text-align: right;\n",
       "    }\n",
       "</style>\n",
       "<table border=\"1\" class=\"dataframe\">\n",
       "  <thead>\n",
       "    <tr style=\"text-align: right;\">\n",
       "      <th></th>\n",
       "      <th>inercja</th>\n",
       "      <th>zysk_proc</th>\n",
       "    </tr>\n",
       "    <tr>\n",
       "      <th>liczba_grup</th>\n",
       "      <th></th>\n",
       "      <th></th>\n",
       "    </tr>\n",
       "  </thead>\n",
       "  <tbody>\n",
       "    <tr>\n",
       "      <th>2</th>\n",
       "      <td>712.380274</td>\n",
       "      <td>0.000000</td>\n",
       "    </tr>\n",
       "    <tr>\n",
       "      <th>3</th>\n",
       "      <td>439.647019</td>\n",
       "      <td>38.284785</td>\n",
       "    </tr>\n",
       "    <tr>\n",
       "      <th>4</th>\n",
       "      <td>321.494149</td>\n",
       "      <td>26.874484</td>\n",
       "    </tr>\n",
       "    <tr>\n",
       "      <th>5</th>\n",
       "      <td>255.492180</td>\n",
       "      <td>20.529757</td>\n",
       "    </tr>\n",
       "    <tr>\n",
       "      <th>6</th>\n",
       "      <td>206.546547</td>\n",
       "      <td>19.157390</td>\n",
       "    </tr>\n",
       "    <tr>\n",
       "      <th>7</th>\n",
       "      <td>171.125981</td>\n",
       "      <td>17.148951</td>\n",
       "    </tr>\n",
       "    <tr>\n",
       "      <th>8</th>\n",
       "      <td>147.084741</td>\n",
       "      <td>14.048854</td>\n",
       "    </tr>\n",
       "    <tr>\n",
       "      <th>9</th>\n",
       "      <td>134.002646</td>\n",
       "      <td>8.894257</td>\n",
       "    </tr>\n",
       "    <tr>\n",
       "      <th>10</th>\n",
       "      <td>120.493133</td>\n",
       "      <td>10.081527</td>\n",
       "    </tr>\n",
       "  </tbody>\n",
       "</table>\n",
       "</div>"
      ],
      "text/plain": [
       "                inercja  zysk_proc\n",
       "liczba_grup                       \n",
       "2            712.380274   0.000000\n",
       "3            439.647019  38.284785\n",
       "4            321.494149  26.874484\n",
       "5            255.492180  20.529757\n",
       "6            206.546547  19.157390\n",
       "7            171.125981  17.148951\n",
       "8            147.084741  14.048854\n",
       "9            134.002646   8.894257\n",
       "10           120.493133  10.081527"
      ]
     },
     "execution_count": 125,
     "metadata": {},
     "output_type": "execute_result"
    }
   ],
   "source": [
    "res"
   ]
  },
  {
   "cell_type": "markdown",
   "id": "8054aafa",
   "metadata": {},
   "source": [
    "Wyświetl wykres współczynnik spadku wartości inercji"
   ]
  },
  {
   "cell_type": "code",
   "execution_count": 126,
   "id": "5903b3f9",
   "metadata": {},
   "outputs": [
    {
     "data": {
      "image/png": "[encoded data removed]",
      "text/plain": [
       "<Figure size 720x504 with 1 Axes>"
      ]
     },
     "metadata": {
      "needs_background": "light"
     },
     "output_type": "display_data"
    }
   ],
   "source": [
    "plt.figure(figsize=(10,7))\n",
    "sns.set(font_scale=1.4, style=\"whitegrid\")\n",
    "sns.lineplot(data = res.drop('zysk_proc', axis = 1), palette = ['#eb6c6a']).set(title = \"Miara odmienności grup vs liczba grup\")\n",
    "plt.show()"
   ]
  },
  {
   "cell_type": "markdown",
   "id": "0d29b208",
   "metadata": {},
   "source": [
    "Wybrać optimum grup lub ustawić"
   ]
  },
  {
   "cell_type": "markdown",
   "id": "34ebe2ab",
   "metadata": {},
   "source": [
    "### 8.3.4 Decyzja o wyborze optymalnej liczby grup?"
   ]
  },
  {
   "cell_type": "code",
   "execution_count": 127,
   "id": "02842789",
   "metadata": {},
   "outputs": [
    {
     "data": {
      "text/plain": [
       "3"
      ]
     },
     "execution_count": 127,
     "metadata": {},
     "output_type": "execute_result"
    }
   ],
   "source": [
    "optimum_n #wybrana przez wsaźnik Silhouette Score, ale czy dobry?"
   ]
  },
  {
   "cell_type": "markdown",
   "id": "c4b63f31",
   "metadata": {},
   "source": [
    "### 8.3.5 Tworzenie modelu dla optymalnej liczby grup"
   ]
  },
  {
   "cell_type": "code",
   "execution_count": 128,
   "id": "893a72fe",
   "metadata": {},
   "outputs": [],
   "source": [
    "kmeans = sklearn.cluster.KMeans(n_clusters=optimum_n).fit(JIRA_Data_group_selection_scaled_df)"
   ]
  },
  {
   "cell_type": "code",
   "execution_count": 129,
   "id": "30a9635c",
   "metadata": {},
   "outputs": [],
   "source": [
    "prediction = kmeans.labels_.astype(int)"
   ]
  },
  {
   "cell_type": "code",
   "execution_count": 130,
   "id": "45f05ecb",
   "metadata": {},
   "outputs": [],
   "source": [
    "prediction_JIRA_Data = pd.DataFrame(data=prediction, columns=['segmentation Kmean'])"
   ]
  },
  {
   "cell_type": "markdown",
   "id": "ad64cb25",
   "metadata": {},
   "source": [
    "Łączenie danych źródłowych"
   ]
  },
  {
   "cell_type": "code",
   "execution_count": 131,
   "id": "c71f403a",
   "metadata": {},
   "outputs": [],
   "source": [
    "model_kmean_data = pd.concat([Data_group_selection,JIRA_Data_group_selection_scaled_df, prediction_JIRA_Data], axis=1) "
   ]
  },
  {
   "cell_type": "markdown",
   "id": "adae7056",
   "metadata": {},
   "source": [
    "Wyświetlenie danych"
   ]
  },
  {
   "cell_type": "markdown",
   "id": "7913e0c9",
   "metadata": {},
   "source": [
    "### 8.3.6 Wizualizacja segmentacji dla optymalnej liczby grup"
   ]
  },
  {
   "cell_type": "code",
   "execution_count": 132,
   "id": "60bda995",
   "metadata": {},
   "outputs": [
    {
     "data": {
      "image/png": "[encoded data removed]",
      "text/plain": [
       "<Figure size 432x288 with 1 Axes>"
      ]
     },
     "metadata": {},
     "output_type": "display_data"
    }
   ],
   "source": [
    "for i in range(0,optimum_n) :\n",
    "    plt.scatter(model_kmean_data[model_kmean_data['segmentation Kmean'] == i].iloc[:, 0] , model_kmean_data[model_kmean_data['segmentation Kmean'] == i].iloc[:, 1]  )   \n",
    "\n",
    "plt.xlabel(str(Etykiety[Etykiety[\"Group\"]==Number_grup]['x'].iloc[0]))\n",
    "plt.ylabel(str(Etykiety[Etykiety[\"Group\"]==Number_grup]['y'].iloc[0]));\n",
    "plt.title(\"Segmentacja według k-średnich dla grupy \"+str(Etykiety[Etykiety[\"Group\"]==Number_grup]['Group'].iloc[0]));\n",
    "plt.legend;"
   ]
  },
  {
   "cell_type": "markdown",
   "id": "d10db8fa",
   "metadata": {},
   "source": [
    "## 8.4 Segmentacja za pomocą algorytmu K-Mediana"
   ]
  },
  {
   "cell_type": "markdown",
   "id": "69eff4f6",
   "metadata": {},
   "source": [
    "### 8.4.1 Import bibliotek "
   ]
  },
  {
   "cell_type": "code",
   "execution_count": 133,
   "id": "4fac60d7",
   "metadata": {},
   "outputs": [],
   "source": [
    "import pandas as pd\n",
    "import seaborn as sns\n",
    "import matplotlib.pyplot as plt\n",
    "from pyclustering.cluster.kmedians import kmedians\n",
    "from pyclustering.cluster.kmeans import kmeans\n",
    "from pyclustering.cluster.center_initializer import kmeans_plusplus_initializer "
   ]
  },
  {
   "cell_type": "markdown",
   "id": "51220346",
   "metadata": {},
   "source": [
    "### 8.4.2 Inicjacja algorytmu "
   ]
  },
  {
   "cell_type": "code",
   "execution_count": 134,
   "id": "dc5c279a",
   "metadata": {},
   "outputs": [
    {
     "name": "stdout",
     "output_type": "stream",
     "text": [
      "Dla k = 2 klastrów, Silhouette Score jest równy 0.5617)\n",
      "Dla k = 3 klastrów, Silhouette Score jest równy 0.6294)\n",
      "Dla k = 4 klastrów, Silhouette Score jest równy 0.6637)\n",
      "Dla k = 5 klastrów, Silhouette Score jest równy 0.7143)\n",
      "Dla k = 6 klastrów, Silhouette Score jest równy 0.7219)\n",
      "Dla k = 7 klastrów, Silhouette Score jest równy 0.7304)\n",
      "Dla k = 8 klastrów, Silhouette Score jest równy 0.7548)\n",
      "Dla k = 9 klastrów, Silhouette Score jest równy 0.7629)\n",
      "Dla k = 10 klastrów, Silhouette Score jest równy 0.7444)\n",
      "Optymalna liczba grupu to  9 ,Wartość Silhouette Score jest równa 0.7629\n"
     ]
    }
   ],
   "source": [
    "optimum_n=0\n",
    "optimum_score=-1\n",
    "res = []\n",
    "for n in range(2,11):\n",
    "    initial_medians = kmeans_plusplus_initializer(JIRA_Data_group_selection_scaled_df.values, n).initialize()\n",
    "    kmedians_instance = kmedians(JIRA_Data_group_selection_scaled_df.values, initial_medians)\n",
    "    \n",
    "    kmedians_instance.process()\n",
    "    clusters = kmedians_instance.get_clusters()\n",
    "    centers = kmedians_instance.get_medians()\n",
    "    for x in range(0,len(clusters)):\n",
    "        JIRA_Data_group_selection_scaled_df.loc[JIRA_Data_group_selection_scaled_df.index.isin(clusters[x]),'segmentation Kmedian'] = x\n",
    "    preds = clusterer.fit_predict(JIRA_Data_group_selection_scaled_df)\n",
    "    \n",
    "     \n",
    "    res.append([n, clusterer.inertia_])\n",
    "    score = sklearn.metrics.silhouette_score(JIRA_Data_group_selection_scaled_df, JIRA_Data_group_selection_scaled_df['segmentation Kmedian'])\n",
    "    print(\"Dla k = {} klastrów, Silhouette Score jest równy {})\".format(n, score.round(4)))\n",
    "    if optimum_score < score :\n",
    "        optimum_n=n\n",
    "        optimum_score=score\n",
    "res = pd.DataFrame(res, columns = ['liczba_grup', 'inercja'])    \n",
    "\n",
    "print(\"Optymalna liczba grupu to  {} ,Wartość Silhouette Score jest równa {}\".format(optimum_n, optimum_score.round(4)))\n"
   ]
  },
  {
   "cell_type": "markdown",
   "id": "94be15cc",
   "metadata": {},
   "source": [
    "### 8.4.4 Decyzja o wyborze optymalnej liczby grup?"
   ]
  },
  {
   "cell_type": "code",
   "execution_count": 135,
   "id": "f3e72a73",
   "metadata": {},
   "outputs": [
    {
     "data": {
      "text/plain": [
       "9"
      ]
     },
     "execution_count": 135,
     "metadata": {},
     "output_type": "execute_result"
    }
   ],
   "source": [
    "optimum_n #wybrana przez wsaźnik Silhouette Score, ale czy dobry?"
   ]
  },
  {
   "cell_type": "code",
   "execution_count": null,
   "id": "3b504704",
   "metadata": {},
   "outputs": [],
   "source": []
  },
  {
   "cell_type": "markdown",
   "id": "0f0f720e",
   "metadata": {},
   "source": [
    "### 8.3.5 Tworzenie modelu dla optymalnej liczby grup"
   ]
  },
  {
   "cell_type": "code",
   "execution_count": 136,
   "id": "c0bbcdf4",
   "metadata": {},
   "outputs": [],
   "source": [
    "initial_medians = kmeans_plusplus_initializer(JIRA_Data_group_selection_scaled_df.values, optimum_n).initialize()\n",
    "kmedians_instance = kmedians(JIRA_Data_group_selection_scaled_df.values, initial_medians)\n",
    "    \n",
    "kmedians_instance.process()\n",
    "clusters = kmedians_instance.get_clusters()\n",
    "centers = kmedians_instance.get_medians()\n",
    "for x in range(0,len(clusters)):\n",
    "    JIRA_Data_group_selection_scaled_df.loc[JIRA_Data_group_selection_scaled_df.index.isin(clusters[x]),'segmentation Kmedian'] = x\n",
    "        "
   ]
  },
  {
   "cell_type": "code",
   "execution_count": 137,
   "id": "4c0ea424",
   "metadata": {},
   "outputs": [],
   "source": [
    "model_kmedian_data = pd.concat([Data_group_selection,JIRA_Data_group_selection_scaled_df, prediction_JIRA_Data], axis=1) "
   ]
  },
  {
   "cell_type": "code",
   "execution_count": 138,
   "id": "40f3edb2",
   "metadata": {},
   "outputs": [
    {
     "data": {
      "text/html": [
       "<div>\n",
       "<style scoped>\n",
       "    .dataframe tbody tr th:only-of-type {\n",
       "        vertical-align: middle;\n",
       "    }\n",
       "\n",
       "    .dataframe tbody tr th {\n",
       "        vertical-align: top;\n",
       "    }\n",
       "\n",
       "    .dataframe thead th {\n",
       "        text-align: right;\n",
       "    }\n",
       "</style>\n",
       "<table border=\"1\" class=\"dataframe\">\n",
       "  <thead>\n",
       "    <tr style=\"text-align: right;\">\n",
       "      <th></th>\n",
       "      <th>Count_Followers</th>\n",
       "      <th>Sentimental_all_sum_neg_pos</th>\n",
       "      <th>0</th>\n",
       "      <th>1</th>\n",
       "      <th>segmentation Kmedian</th>\n",
       "      <th>segmentation Kmean</th>\n",
       "    </tr>\n",
       "  </thead>\n",
       "  <tbody>\n",
       "    <tr>\n",
       "      <th>0</th>\n",
       "      <td>0</td>\n",
       "      <td>0.186</td>\n",
       "      <td>-1.000877</td>\n",
       "      <td>-0.816046</td>\n",
       "      <td>1.0</td>\n",
       "      <td>0</td>\n",
       "    </tr>\n",
       "    <tr>\n",
       "      <th>1</th>\n",
       "      <td>0</td>\n",
       "      <td>0.209</td>\n",
       "      <td>-1.000877</td>\n",
       "      <td>-0.627275</td>\n",
       "      <td>1.0</td>\n",
       "      <td>0</td>\n",
       "    </tr>\n",
       "    <tr>\n",
       "      <th>2</th>\n",
       "      <td>1</td>\n",
       "      <td>0.186</td>\n",
       "      <td>-0.652262</td>\n",
       "      <td>-0.816046</td>\n",
       "      <td>1.0</td>\n",
       "      <td>0</td>\n",
       "    </tr>\n",
       "    <tr>\n",
       "      <th>3</th>\n",
       "      <td>1</td>\n",
       "      <td>0.140</td>\n",
       "      <td>-0.652262</td>\n",
       "      <td>-1.193588</td>\n",
       "      <td>1.0</td>\n",
       "      <td>0</td>\n",
       "    </tr>\n",
       "    <tr>\n",
       "      <th>4</th>\n",
       "      <td>1</td>\n",
       "      <td>0.209</td>\n",
       "      <td>-0.652262</td>\n",
       "      <td>-0.627275</td>\n",
       "      <td>1.0</td>\n",
       "      <td>0</td>\n",
       "    </tr>\n",
       "    <tr>\n",
       "      <th>...</th>\n",
       "      <td>...</td>\n",
       "      <td>...</td>\n",
       "      <td>...</td>\n",
       "      <td>...</td>\n",
       "      <td>...</td>\n",
       "      <td>...</td>\n",
       "    </tr>\n",
       "    <tr>\n",
       "      <th>685</th>\n",
       "      <td>1</td>\n",
       "      <td>0.218</td>\n",
       "      <td>-0.652262</td>\n",
       "      <td>-0.553408</td>\n",
       "      <td>1.0</td>\n",
       "      <td>0</td>\n",
       "    </tr>\n",
       "    <tr>\n",
       "      <th>686</th>\n",
       "      <td>1</td>\n",
       "      <td>0.218</td>\n",
       "      <td>-0.652262</td>\n",
       "      <td>-0.553408</td>\n",
       "      <td>1.0</td>\n",
       "      <td>0</td>\n",
       "    </tr>\n",
       "    <tr>\n",
       "      <th>687</th>\n",
       "      <td>11</td>\n",
       "      <td>0.412</td>\n",
       "      <td>2.833881</td>\n",
       "      <td>1.038836</td>\n",
       "      <td>7.0</td>\n",
       "      <td>2</td>\n",
       "    </tr>\n",
       "    <tr>\n",
       "      <th>688</th>\n",
       "      <td>8</td>\n",
       "      <td>0.472</td>\n",
       "      <td>1.788038</td>\n",
       "      <td>1.531283</td>\n",
       "      <td>6.0</td>\n",
       "      <td>2</td>\n",
       "    </tr>\n",
       "    <tr>\n",
       "      <th>689</th>\n",
       "      <td>0</td>\n",
       "      <td>0.218</td>\n",
       "      <td>-1.000877</td>\n",
       "      <td>-0.553408</td>\n",
       "      <td>1.0</td>\n",
       "      <td>0</td>\n",
       "    </tr>\n",
       "  </tbody>\n",
       "</table>\n",
       "<p>690 rows × 6 columns</p>\n",
       "</div>"
      ],
      "text/plain": [
       "     Count_Followers  Sentimental_all_sum_neg_pos         0         1  \\\n",
       "0                  0                        0.186 -1.000877 -0.816046   \n",
       "1                  0                        0.209 -1.000877 -0.627275   \n",
       "2                  1                        0.186 -0.652262 -0.816046   \n",
       "3                  1                        0.140 -0.652262 -1.193588   \n",
       "4                  1                        0.209 -0.652262 -0.627275   \n",
       "..               ...                          ...       ...       ...   \n",
       "685                1                        0.218 -0.652262 -0.553408   \n",
       "686                1                        0.218 -0.652262 -0.553408   \n",
       "687               11                        0.412  2.833881  1.038836   \n",
       "688                8                        0.472  1.788038  1.531283   \n",
       "689                0                        0.218 -1.000877 -0.553408   \n",
       "\n",
       "     segmentation Kmedian  segmentation Kmean  \n",
       "0                     1.0                   0  \n",
       "1                     1.0                   0  \n",
       "2                     1.0                   0  \n",
       "3                     1.0                   0  \n",
       "4                     1.0                   0  \n",
       "..                    ...                 ...  \n",
       "685                   1.0                   0  \n",
       "686                   1.0                   0  \n",
       "687                   7.0                   2  \n",
       "688                   6.0                   2  \n",
       "689                   1.0                   0  \n",
       "\n",
       "[690 rows x 6 columns]"
      ]
     },
     "execution_count": 138,
     "metadata": {},
     "output_type": "execute_result"
    }
   ],
   "source": [
    "model_kmedian_data"
   ]
  },
  {
   "cell_type": "markdown",
   "id": "23891f75",
   "metadata": {},
   "source": [
    "### 8.4.6 Wizualizacja segmentacji dla optymalnej liczby grup"
   ]
  },
  {
   "cell_type": "code",
   "execution_count": 139,
   "id": "905b340b",
   "metadata": {},
   "outputs": [
    {
     "data": {
      "image/png": "[encoded data removed]",
      "text/plain": [
       "<Figure size 432x288 with 1 Axes>"
      ]
     },
     "metadata": {},
     "output_type": "display_data"
    }
   ],
   "source": [
    "for i in range(0,optimum_n) :\n",
    "    plt.scatter(model_kmedian_data[model_kmedian_data['segmentation Kmedian'] == i].iloc[:, 0] , model_kmedian_data[model_kmedian_data['segmentation Kmedian'] == i].iloc[:, 1]  )   \n",
    "\n",
    "plt.xlabel(str(Etykiety[Etykiety[\"Group\"]==Number_grup]['x'].iloc[0]))\n",
    "plt.ylabel(str(Etykiety[Etykiety[\"Group\"]==Number_grup]['y'].iloc[0]));\n",
    "plt.title(\"Segmentacja według k-median dla grupy \"+str(Etykiety[Etykiety[\"Group\"]==Number_grup]['Group'].iloc[0]));\n",
    "plt.legend;"
   ]
  },
  {
   "cell_type": "markdown",
   "id": "97035494",
   "metadata": {},
   "source": [
    "## 8.5 Segmentacja za pomocą algorytmu DBSCAN"
   ]
  },
  {
   "cell_type": "markdown",
   "id": "41a4f053",
   "metadata": {},
   "source": [
    "### 8.5.1 Import bibliotek"
   ]
  },
  {
   "cell_type": "code",
   "execution_count": 140,
   "id": "3ed48150",
   "metadata": {},
   "outputs": [],
   "source": [
    "from sklearn.cluster import DBSCAN"
   ]
  },
  {
   "cell_type": "code",
   "execution_count": 141,
   "id": "846bd779",
   "metadata": {},
   "outputs": [],
   "source": [
    "from sklearn.neighbors import NearestNeighbors"
   ]
  },
  {
   "cell_type": "code",
   "execution_count": 142,
   "id": "5b224d08",
   "metadata": {},
   "outputs": [],
   "source": [
    "from sklearn.metrics import silhouette_score"
   ]
  },
  {
   "cell_type": "markdown",
   "id": "dc8440f1",
   "metadata": {},
   "source": [
    "### 8.5.2 Oblicz odległość danych od siebie za pomocą funkcji najbliższych sąsiadów"
   ]
  },
  {
   "cell_type": "code",
   "execution_count": 143,
   "id": "cf1ee5d2",
   "metadata": {},
   "outputs": [],
   "source": [
    "neighb = NearestNeighbors(n_neighbors=2) \n",
    "nbrs=neighb.fit(JIRA_Data_group_selection_scaled_df)  \n",
    "distances,indices=nbrs.kneighbors(JIRA_Data_group_selection_scaled_df)  "
   ]
  },
  {
   "cell_type": "markdown",
   "id": "971cac0e",
   "metadata": {},
   "source": [
    "### 8.5.3 Sortowanie i wykreślanie odległości między punktami danych"
   ]
  },
  {
   "cell_type": "code",
   "execution_count": 144,
   "id": "ddaeaf7f",
   "metadata": {},
   "outputs": [
    {
     "data": {
      "image/png": "[encoded data removed]",
      "text/plain": [
       "<Figure size 360x216 with 1 Axes>"
      ]
     },
     "metadata": {},
     "output_type": "display_data"
    }
   ],
   "source": [
    "distances = np.sort(distances, axis = 0) \n",
    "distances = distances[:, 1] \n",
    "plt.rcParams['figure.figsize'] = (5,3) \n",
    "plt.plot(distances)\n",
    "plt.show() "
   ]
  },
  {
   "cell_type": "markdown",
   "id": "5d1b35e4",
   "metadata": {},
   "source": [
    "### 8.5.4 Wybór parametrów"
   ]
  },
  {
   "cell_type": "code",
   "execution_count": 145,
   "id": "90be5b35",
   "metadata": {},
   "outputs": [],
   "source": [
    "eps = 0.4 #należy odczytać z wykresu"
   ]
  },
  {
   "cell_type": "code",
   "execution_count": 146,
   "id": "b44791b5",
   "metadata": {},
   "outputs": [],
   "source": [
    "min_samples = 4 # liczba zmiennych * 2"
   ]
  },
  {
   "cell_type": "code",
   "execution_count": 147,
   "id": "b1b3ac4e",
   "metadata": {},
   "outputs": [],
   "source": [
    "dbscan = DBSCAN(eps = 0.5, min_samples = 4).fit(JIRA_Data_group_selection_scaled_df) \n",
    "labels = dbscan.labels_ "
   ]
  },
  {
   "cell_type": "markdown",
   "id": "4853dfc3",
   "metadata": {},
   "source": [
    "### 8.5.5 Obliczanie wskaźnika silhouette"
   ]
  },
  {
   "cell_type": "code",
   "execution_count": 148,
   "id": "bf37f649",
   "metadata": {},
   "outputs": [
    {
     "name": "stdout",
     "output_type": "stream",
     "text": [
      "DBSCAN wartość wskaźnika silhouette: 0.2572\n"
     ]
    }
   ],
   "source": [
    "print(\"DBSCAN wartość wskaźnika silhouette: {}\".format(silhouette_score(Data_group_selection, labels).round(4)))"
   ]
  },
  {
   "cell_type": "markdown",
   "id": "967caeef",
   "metadata": {},
   "source": [
    "### 8.5.6 Wizualizacja segmentacji dla optymalnej liczby grup"
   ]
  },
  {
   "cell_type": "code",
   "execution_count": 149,
   "id": "6d1a4906",
   "metadata": {},
   "outputs": [
    {
     "data": {
      "image/png": "[encoded data removed]",
      "text/plain": [
       "<Figure size 360x216 with 1 Axes>"
      ]
     },
     "metadata": {},
     "output_type": "display_data"
    }
   ],
   "source": [
    "plt.scatter(Data_group_selection.iloc[:, 0], Data_group_selection.iloc[:, 1], c = labels, cmap= \"plasma\") # plotting the clusters\n",
    "plt.xlabel(str(Etykiety[Etykiety[\"Group\"]==Number_grup]['x'].iloc[0]))\n",
    "plt.ylabel(str(Etykiety[Etykiety[\"Group\"]==Number_grup]['y'].iloc[0]));\n",
    "plt.title(\"Segmentacja według DBSCAN dla grupy \"+str(Etykiety[Etykiety[\"Group\"]==Number_grup]['Group'].iloc[0]));\n",
    "\n",
    "plt.show() # showing the plot"
   ]
  },
  {
   "cell_type": "markdown",
   "id": "797e4d3f",
   "metadata": {},
   "source": [
    "Liczba grup powstałych w algorytmie DBSCAN"
   ]
  },
  {
   "cell_type": "code",
   "execution_count": 150,
   "id": "b33321ac",
   "metadata": {},
   "outputs": [
    {
     "data": {
      "text/plain": [
       "7"
      ]
     },
     "execution_count": 150,
     "metadata": {},
     "output_type": "execute_result"
    }
   ],
   "source": [
    "max(labels)"
   ]
  }
 ],
 "metadata": {
  "kernelspec": {
   "display_name": "Python 3 (ipykernel)",
   "language": "python",
   "name": "python3"
  },
  "language_info": {
   "codemirror_mode": {
    "name": "ipython",
    "version": 3
   },
   "file_extension": ".py",
   "mimetype": "text/x-python",
   "name": "python",
   "nbconvert_exporter": "python",
   "pygments_lexer": "ipython3",
   "version": "3.10.0"
  }
 },
 "nbformat": 4,
 "nbformat_minor": 5
}
